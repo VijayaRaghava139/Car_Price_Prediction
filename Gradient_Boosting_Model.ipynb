{
 "cells": [
  {
   "cell_type": "code",
   "execution_count": 1,
   "id": "d80648ab-976e-4db4-b698-668eb6ce0d02",
   "metadata": {},
   "outputs": [],
   "source": [
    "import pandas as pd\n",
    "import numpy as np\n",
    "import matplotlib.pyplot as plt\n",
    "import seaborn as sns\n",
    "import re"
   ]
  },
  {
   "cell_type": "code",
   "execution_count": 2,
   "id": "2f18de4f-7285-4d48-ae34-07a8bd2165b0",
   "metadata": {},
   "outputs": [],
   "source": [
    "df = pd.read_csv('cleanedData.csv', low_memory=False)"
   ]
  },
  {
   "cell_type": "code",
   "execution_count": 3,
   "id": "77fc6aa8-63d4-412a-8a00-ad12dd0ee906",
   "metadata": {},
   "outputs": [
    {
     "data": {
      "text/html": [
       "<div>\n",
       "<style scoped>\n",
       "    .dataframe tbody tr th:only-of-type {\n",
       "        vertical-align: middle;\n",
       "    }\n",
       "\n",
       "    .dataframe tbody tr th {\n",
       "        vertical-align: top;\n",
       "    }\n",
       "\n",
       "    .dataframe thead th {\n",
       "        text-align: right;\n",
       "    }\n",
       "</style>\n",
       "<table border=\"1\" class=\"dataframe\">\n",
       "  <thead>\n",
       "    <tr style=\"text-align: right;\">\n",
       "      <th></th>\n",
       "      <th>Body Type</th>\n",
       "      <th>Driven(KM)</th>\n",
       "      <th>No of Owner</th>\n",
       "      <th>Brand(Model)</th>\n",
       "      <th>Variant Name</th>\n",
       "      <th>Price(Lakhs)</th>\n",
       "      <th>City</th>\n",
       "      <th>Fuel Type</th>\n",
       "      <th>RTO</th>\n",
       "      <th>Transmission</th>\n",
       "      <th>...</th>\n",
       "      <th>Steering Type</th>\n",
       "      <th>Turning Radius</th>\n",
       "      <th>Front Brake Type</th>\n",
       "      <th>Rear Brake Type</th>\n",
       "      <th>Top Speed(KMPH)</th>\n",
       "      <th>Acceleration</th>\n",
       "      <th>No Door Numbers</th>\n",
       "      <th>Cargo Volumn</th>\n",
       "      <th>Wheel Size</th>\n",
       "      <th>Age(Months)</th>\n",
       "    </tr>\n",
       "  </thead>\n",
       "  <tbody>\n",
       "    <tr>\n",
       "      <th>2472</th>\n",
       "      <td>SUV</td>\n",
       "      <td>49000.0</td>\n",
       "      <td>1</td>\n",
       "      <td>BMW X1</td>\n",
       "      <td>sDrive 20D xLine</td>\n",
       "      <td>27.00</td>\n",
       "      <td>Chennai</td>\n",
       "      <td>Diesel</td>\n",
       "      <td>TN02</td>\n",
       "      <td>Automatic</td>\n",
       "      <td>...</td>\n",
       "      <td>Power</td>\n",
       "      <td>5.8</td>\n",
       "      <td>Ventilated Discs</td>\n",
       "      <td>Ventilated Discs</td>\n",
       "      <td>205.0</td>\n",
       "      <td>7.90</td>\n",
       "      <td>5.0</td>\n",
       "      <td>420.0</td>\n",
       "      <td>17.0</td>\n",
       "      <td>6.0</td>\n",
       "    </tr>\n",
       "    <tr>\n",
       "      <th>1373</th>\n",
       "      <td>MUV</td>\n",
       "      <td>73000.0</td>\n",
       "      <td>1</td>\n",
       "      <td>Mahindra Xylo</td>\n",
       "      <td>H8</td>\n",
       "      <td>7.75</td>\n",
       "      <td>Bangalore</td>\n",
       "      <td>Diesel</td>\n",
       "      <td>KA05</td>\n",
       "      <td>Manual</td>\n",
       "      <td>...</td>\n",
       "      <td>Power</td>\n",
       "      <td>5.5</td>\n",
       "      <td>Disc</td>\n",
       "      <td>Drum</td>\n",
       "      <td>160.0</td>\n",
       "      <td>16.00</td>\n",
       "      <td>5.0</td>\n",
       "      <td>376.0</td>\n",
       "      <td>NaN</td>\n",
       "      <td>8.0</td>\n",
       "    </tr>\n",
       "    <tr>\n",
       "      <th>3381</th>\n",
       "      <td>Hatchback</td>\n",
       "      <td>20755.0</td>\n",
       "      <td>2</td>\n",
       "      <td>Maruti Baleno</td>\n",
       "      <td>1.2 Delta</td>\n",
       "      <td>5.03</td>\n",
       "      <td>Delhi</td>\n",
       "      <td>Petrol</td>\n",
       "      <td>DL2C</td>\n",
       "      <td>Manual</td>\n",
       "      <td>...</td>\n",
       "      <td>Power</td>\n",
       "      <td>4.9</td>\n",
       "      <td>Disc</td>\n",
       "      <td>Drum</td>\n",
       "      <td>180.0</td>\n",
       "      <td>12.36</td>\n",
       "      <td>5.0</td>\n",
       "      <td>339.0</td>\n",
       "      <td>NaN</td>\n",
       "      <td>8.0</td>\n",
       "    </tr>\n",
       "  </tbody>\n",
       "</table>\n",
       "<p>3 rows × 55 columns</p>\n",
       "</div>"
      ],
      "text/plain": [
       "      Body Type  Driven(KM)  No of Owner   Brand(Model)      Variant Name  \\\n",
       "2472        SUV     49000.0            1         BMW X1  sDrive 20D xLine   \n",
       "1373        MUV     73000.0            1  Mahindra Xylo                H8   \n",
       "3381  Hatchback     20755.0            2  Maruti Baleno         1.2 Delta   \n",
       "\n",
       "      Price(Lakhs)       City Fuel Type   RTO Transmission  ... Steering Type  \\\n",
       "2472         27.00    Chennai    Diesel  TN02    Automatic  ...         Power   \n",
       "1373          7.75  Bangalore    Diesel  KA05       Manual  ...         Power   \n",
       "3381          5.03      Delhi    Petrol  DL2C       Manual  ...         Power   \n",
       "\n",
       "     Turning Radius  Front Brake Type   Rear Brake Type Top Speed(KMPH)  \\\n",
       "2472            5.8  Ventilated Discs  Ventilated Discs           205.0   \n",
       "1373            5.5              Disc              Drum           160.0   \n",
       "3381            4.9              Disc              Drum           180.0   \n",
       "\n",
       "     Acceleration No Door Numbers Cargo Volumn Wheel Size Age(Months)  \n",
       "2472         7.90             5.0        420.0       17.0         6.0  \n",
       "1373        16.00             5.0        376.0        NaN         8.0  \n",
       "3381        12.36             5.0        339.0        NaN         8.0  \n",
       "\n",
       "[3 rows x 55 columns]"
      ]
     },
     "execution_count": 3,
     "metadata": {},
     "output_type": "execute_result"
    }
   ],
   "source": [
    "df = df.drop(columns=['Unnamed: 0'], errors='ignore')\n",
    "df.sample(3)"
   ]
  },
  {
   "cell_type": "code",
   "execution_count": null,
   "id": "5b4af083-8f24-4125-be73-8779f03bb5c2",
   "metadata": {},
   "outputs": [],
   "source": []
  },
  {
   "cell_type": "code",
   "execution_count": 4,
   "id": "0746bc4f-0ecc-4582-9176-35188c35cadf",
   "metadata": {},
   "outputs": [],
   "source": [
    "from sklearn.model_selection import train_test_split\n",
    "from sklearn.impute import KNNImputer\n",
    "from sklearn.impute import SimpleImputer"
   ]
  },
  {
   "cell_type": "code",
   "execution_count": 5,
   "id": "2d2c4fac-8248-4fdc-8145-da00b0939e76",
   "metadata": {},
   "outputs": [],
   "source": [
    "X = df.drop(columns=['Price(Lakhs)'])\n",
    "y = df['Price(Lakhs)']"
   ]
  },
  {
   "cell_type": "code",
   "execution_count": 6,
   "id": "7be4f811-9ff4-4147-85ad-f30455eeb936",
   "metadata": {},
   "outputs": [],
   "source": [
    "y_log = np.log(y)"
   ]
  },
  {
   "cell_type": "code",
   "execution_count": 7,
   "id": "26774893-6a13-4faa-b7f3-e990730ebec4",
   "metadata": {},
   "outputs": [
    {
     "data": {
      "text/plain": [
       "((6695, 54), (1674, 54))"
      ]
     },
     "execution_count": 7,
     "metadata": {},
     "output_type": "execute_result"
    }
   ],
   "source": [
    "X_train, X_test, y_train_log, y_test_log = train_test_split(X, y_log, test_size = 0.2, random_state = 42)\n",
    "X_train.shape, X_test.shape"
   ]
  },
  {
   "cell_type": "code",
   "execution_count": null,
   "id": "5405229d-9fd0-4951-aac2-6e681daa7061",
   "metadata": {},
   "outputs": [],
   "source": []
  },
  {
   "cell_type": "code",
   "execution_count": 8,
   "id": "76f1e51b-c41b-45d9-af87-a449133eb431",
   "metadata": {},
   "outputs": [
    {
     "data": {
      "text/plain": [
       "['Steering',\n",
       " 'Front',\n",
       " 'Lights',\n",
       " 'Rear',\n",
       " 'Opener',\n",
       " 'Beams',\n",
       " 'Bag',\n",
       " 'Seats',\n",
       " 'Drive Type']"
      ]
     },
     "execution_count": 8,
     "metadata": {},
     "output_type": "execute_result"
    }
   ],
   "source": [
    "# The columns with more than 80% same values has no proper contribution to the model.\n",
    "# So, the columns have to be dropped\n",
    "\n",
    "X_train_same_value_threshold = 0.8\n",
    "X_train_same_value_drop_list = [col for col in X_train.columns if X_train[col].value_counts(normalize=True).values[0] > X_train_same_value_threshold]\n",
    "X_train_same_value_drop_list"
   ]
  },
  {
   "cell_type": "code",
   "execution_count": 9,
   "id": "34698447-110f-4db4-b78c-cd3af9f31b8d",
   "metadata": {},
   "outputs": [],
   "source": [
    "X_train = X_train.drop(columns=X_train_same_value_drop_list, axis=1)\n",
    "X_test = X_test.drop(columns=X_train_same_value_drop_list, axis=1)"
   ]
  },
  {
   "cell_type": "code",
   "execution_count": 10,
   "id": "15ddcbc0-953a-48c6-96e1-28aea6167758",
   "metadata": {},
   "outputs": [
    {
     "data": {
      "text/plain": [
       "[]"
      ]
     },
     "execution_count": 10,
     "metadata": {},
     "output_type": "execute_result"
    }
   ],
   "source": [
    "# The columns with more than 50% missing values have no proper contribution to the model.\n",
    "# So, the columns have to be dropped\n",
    "\n",
    "X_train_missing_value_threshold = 0.5\n",
    "X_train_missing_value_drop_list = [col for col in X_train.columns if X_train[col].isna().mean() > X_train_missing_value_threshold]\n",
    "X_train_missing_value_drop_list"
   ]
  },
  {
   "cell_type": "code",
   "execution_count": null,
   "id": "e5d93d89-7165-4eb3-a84c-26bd0942ad5a",
   "metadata": {},
   "outputs": [],
   "source": []
  },
  {
   "cell_type": "code",
   "execution_count": 11,
   "id": "c3307c23-e95c-4aa9-8e35-67c7ea4e5952",
   "metadata": {},
   "outputs": [],
   "source": [
    "# IMPUTING MISSING VALUES"
   ]
  },
  {
   "cell_type": "code",
   "execution_count": 12,
   "id": "38343171-b2f9-460e-8793-372e2cc0bf90",
   "metadata": {},
   "outputs": [],
   "source": [
    "num_col_list = X_train.select_dtypes(include=['float64']).columns.to_list()"
   ]
  },
  {
   "cell_type": "code",
   "execution_count": 13,
   "id": "cd395c3b-f5b0-496c-9388-d32188d14cd1",
   "metadata": {},
   "outputs": [],
   "source": [
    "# Filling missing values with the KNNImputing method\n",
    "kimputer = KNNImputer(weights='distance')\n",
    "\n",
    "X_train[num_col_list] = kimputer.fit_transform(X_train[num_col_list])\n",
    "X_test[num_col_list] = kimputer.transform(X_test[num_col_list])"
   ]
  },
  {
   "cell_type": "code",
   "execution_count": 14,
   "id": "ce3a9ecd-e7e1-4289-a3b4-bccf5e242358",
   "metadata": {},
   "outputs": [],
   "source": [
    "cat_col_list = X_train.select_dtypes(include=['object']).columns.to_list()"
   ]
  },
  {
   "cell_type": "code",
   "execution_count": 15,
   "id": "6a1db98d-8774-4c4a-824d-a51cc0b696b7",
   "metadata": {},
   "outputs": [],
   "source": [
    "for col in cat_col_list:\n",
    "    X_train.loc[X_train[col].isna(), col] = X_train[col].dropna().sample(X_train[col].isna().sum()).values\n",
    "    X_test.loc[X_test[col].isna(), col] = X_train[col].dropna().sample(X_test[col].isna().sum()).values"
   ]
  },
  {
   "cell_type": "code",
   "execution_count": null,
   "id": "ff188046-ca97-4688-9a39-1db77a3d9f82",
   "metadata": {},
   "outputs": [],
   "source": []
  },
  {
   "cell_type": "code",
   "execution_count": 16,
   "id": "f3a190d3-00fb-4743-9ea4-10068207591c",
   "metadata": {},
   "outputs": [],
   "source": [
    "# DETECTING AND CAPPING OUTLIERS"
   ]
  },
  {
   "cell_type": "code",
   "execution_count": 17,
   "id": "9b6f859e-2467-4e25-8424-b3c5ca059db4",
   "metadata": {},
   "outputs": [],
   "source": [
    "for col in num_col_list:\n",
    "\n",
    "    # Quantiles range calculation\n",
    "    Q1 = X_train[col].quantile(0.25)\n",
    "    Q3 = X_train[col].quantile(0.75)\n",
    "\n",
    "    # Inter Quartile Range calculation\n",
    "    IQR = Q3 - Q1\n",
    "\n",
    "    # Minimum and Maximum values calculations for outliers\n",
    "    lower_value = Q1 - 1.5 * IQR\n",
    "    upper_value = Q3 + 1.5 * IQR\n",
    "\n",
    "    # Capping outliers with the max and min values for Training data\n",
    "    X_train.loc[X_train[col] > upper_value, col] = upper_value\n",
    "    X_train.loc[X_train[col] < lower_value, col] = lower_value\n",
    "\n",
    "    # Capping outliers with the max and min values for Testing data\n",
    "    X_test.loc[X_test[col] > upper_value, col] = upper_value\n",
    "    X_test.loc[X_test[col] < lower_value, col] = lower_value"
   ]
  },
  {
   "cell_type": "code",
   "execution_count": null,
   "id": "aa8f385d-1ab2-4326-9ae4-75be78b22334",
   "metadata": {},
   "outputs": [],
   "source": []
  },
  {
   "cell_type": "code",
   "execution_count": 18,
   "id": "440719e3-85c2-43db-8533-de8d5750df52",
   "metadata": {},
   "outputs": [],
   "source": [
    "# CORRELATION ANALYSIS"
   ]
  },
  {
   "cell_type": "code",
   "execution_count": 19,
   "id": "58ee8510-17bb-422f-a917-44dc943db072",
   "metadata": {},
   "outputs": [
    {
     "data": {
      "text/plain": [
       "[('Max Power', 'Torque'),\n",
       " ('Max Power', 'Displacement'),\n",
       " ('Max Power', 'Length(mm)'),\n",
       " ('Max Power', 'Width(mm)'),\n",
       " ('Max Power', 'Wheel Base(mm)'),\n",
       " ('Max Power', 'Kerb Weight(KG)'),\n",
       " ('Max Power', 'Turning Radius'),\n",
       " ('Max Power', 'Top Speed(KMPH)'),\n",
       " ('Max Power', 'Acceleration'),\n",
       " ('Max Power', 'Wheel Size'),\n",
       " ('Torque', 'Displacement'),\n",
       " ('Torque', 'Kerb Weight(KG)'),\n",
       " ('Displacement', 'Kerb Weight(KG)'),\n",
       " ('Displacement', 'Turning Radius'),\n",
       " ('Length(mm)', 'Width(mm)'),\n",
       " ('Length(mm)', 'Wheel Base(mm)'),\n",
       " ('Length(mm)', 'Turning Radius'),\n",
       " ('Width(mm)', 'Wheel Base(mm)'),\n",
       " ('Width(mm)', 'Front Tread'),\n",
       " ('Width(mm)', 'Rear Tread'),\n",
       " ('Width(mm)', 'Wheel Size'),\n",
       " ('Wheel Base(mm)', 'Turning Radius'),\n",
       " ('Front Tread', 'Rear Tread'),\n",
       " ('Kerb Weight(KG)', 'Turning Radius'),\n",
       " ('Top Speed(KMPH)', 'Acceleration')]"
      ]
     },
     "execution_count": 19,
     "metadata": {},
     "output_type": "execute_result"
    }
   ],
   "source": [
    "corr_matrix = pd.concat([X_train[num_col_list], y_train_log], axis=1).corr().abs()\n",
    "threshold = 0.8\n",
    "\n",
    "# Find columns that are highly correlated\n",
    "high_corr_pairs = np.where(corr_matrix > threshold)\n",
    "high_corr_pairs = [(corr_matrix.index[x], corr_matrix.columns[y]) for x, y in zip(*high_corr_pairs) if x != y and x < y]\n",
    "high_corr_pairs"
   ]
  },
  {
   "cell_type": "code",
   "execution_count": 20,
   "id": "b9e109c8-21e7-4696-b16a-62053a968158",
   "metadata": {},
   "outputs": [],
   "source": [
    "# By observing the above highly correlating columns have to be dropped.\n",
    "# No of Cylinder and No Door Number columns not relating to the Target column. So, the columns have to be dropped. \n",
    "\n",
    "cols_drop_list = ['Turning Radius', 'Kerb Weight(KG)', 'Front Tread', 'Rear Tread', 'Wheel Size', \n",
    "                  'No Door Numbers', 'No of Cylinder', 'Wheel Base(mm)']\n",
    "X_train = X_train.drop(columns = cols_drop_list, axis=1)\n",
    "X_test = X_test.drop(columns = cols_drop_list, axis=1)"
   ]
  },
  {
   "cell_type": "code",
   "execution_count": 21,
   "id": "a438ae2e-f9f7-4108-b2d8-fb66a6e1cb84",
   "metadata": {},
   "outputs": [],
   "source": [
    "X_train['Area'] = 2 * (X_train['Length(mm)'] + X_train['Width(mm)'])\n",
    "X_test['Area'] = 2 * (X_test['Length(mm)'] + X_test['Width(mm)'])\n",
    "\n",
    "X_train = X_train.drop(columns = ['Length(mm)', 'Width(mm)'], axis=1)\n",
    "X_test = X_test.drop(columns = ['Length(mm)', 'Width(mm)'], axis=1)"
   ]
  },
  {
   "cell_type": "code",
   "execution_count": 22,
   "id": "295b42c3-afaa-4e9b-bfe8-95f48d6e0f6b",
   "metadata": {},
   "outputs": [],
   "source": [
    "cat_cols_drop_list = ['Front Brake Type', 'Rear Brake Type']"
   ]
  },
  {
   "cell_type": "code",
   "execution_count": 23,
   "id": "cca7d0ef-867e-4fd0-99fc-9f20afcdf2cc",
   "metadata": {},
   "outputs": [],
   "source": [
    "# By domain knowledge, the above categorical columns will not affect the price much. So, the columns have to be dropped.\n",
    "\n",
    "X_train = X_train.drop(columns = cat_cols_drop_list, axis=1)\n",
    "X_test = X_test.drop(columns = cat_cols_drop_list, axis=1)"
   ]
  },
  {
   "cell_type": "code",
   "execution_count": null,
   "id": "0f74b6c6-3d91-4b1a-bd1e-1a59d0cf87bd",
   "metadata": {},
   "outputs": [],
   "source": []
  },
  {
   "cell_type": "code",
   "execution_count": 24,
   "id": "e15057fe-72ca-4696-b7f1-d0c249fd2722",
   "metadata": {},
   "outputs": [],
   "source": [
    "# SCALING THE NUMERICAL COLUMNS"
   ]
  },
  {
   "cell_type": "code",
   "execution_count": 25,
   "id": "6f691751-65d5-49f8-9204-0864d2fc73d9",
   "metadata": {},
   "outputs": [],
   "source": [
    "from sklearn.preprocessing import StandardScaler, OneHotEncoder"
   ]
  },
  {
   "cell_type": "code",
   "execution_count": 26,
   "id": "9eedf97d-47c7-4382-bac6-f17fcb64308b",
   "metadata": {},
   "outputs": [],
   "source": [
    "scaling_list = X_train.select_dtypes(include=['float64']).columns.to_list()\n",
    "\n",
    "scaler = StandardScaler()\n",
    "X_train[scaling_list] = scaler.fit_transform(X_train[scaling_list])\n",
    "X_test[scaling_list] = scaler.transform(X_test[scaling_list])"
   ]
  },
  {
   "cell_type": "code",
   "execution_count": 27,
   "id": "849f81a8-0276-4733-abff-bef7f5200057",
   "metadata": {},
   "outputs": [],
   "source": [
    "# ENCODING THE CATEGORICAL COLUMNS"
   ]
  },
  {
   "cell_type": "code",
   "execution_count": 28,
   "id": "74c0fc83-b3f5-421c-b883-a7852b53eeb1",
   "metadata": {},
   "outputs": [],
   "source": [
    "target_en_cols = ['Brand(Model)', 'Variant Name', 'RTO', 'Color', 'Engine Type', 'Fuel Suppy System']\n",
    "for col in target_en_cols:\n",
    "    mean_target = df.groupby(col)['Price(Lakhs)'].mean()\n",
    "    X_train[col] = X_train[col].map(mean_target)\n",
    "    X_test[col] = X_test[col].map(mean_target)"
   ]
  },
  {
   "cell_type": "code",
   "execution_count": 29,
   "id": "7bf20b02-0c4b-40ed-a0bb-14d1886f0a89",
   "metadata": {},
   "outputs": [],
   "source": [
    "ohe_en_cols = ['Body Type', 'Fuel Type', 'Transmission', 'City', 'Value Configuration', 'Light', 'Headrest', 'Antenna', 'Headlamps', 'System', \n",
    "               'Wheel', 'Control', 'Warning', 'Turbo Charger', 'Steering Type']"
   ]
  },
  {
   "cell_type": "code",
   "execution_count": 30,
   "id": "0fc1b8cb-077d-4535-b614-1cb4c1fba9aa",
   "metadata": {},
   "outputs": [
    {
     "name": "stderr",
     "output_type": "stream",
     "text": [
      "C:\\Users\\HP\\Documents\\Python\\Lib\\site-packages\\sklearn\\preprocessing\\_encoders.py:242: UserWarning: Found unknown categories in columns [0, 4, 13, 14] during transform. These unknown categories will be encoded as all zeros\n",
      "  warnings.warn(\n"
     ]
    }
   ],
   "source": [
    "ohencoder = OneHotEncoder(drop='first', handle_unknown='ignore', sparse_output=False)\n",
    "\n",
    "X_train_encoded = ohencoder.fit_transform(X_train[ohe_en_cols])\n",
    "X_test_encoded = ohencoder.transform(X_test[ohe_en_cols])\n",
    "\n",
    "encoded_columns = ohencoder.get_feature_names_out(ohe_en_cols)\n",
    "\n",
    "X_train_encoded_df = pd.DataFrame(X_train_encoded, columns=encoded_columns, index=X_train.index)\n",
    "X_test_encoded_df = pd.DataFrame(X_test_encoded, columns=encoded_columns, index=X_test.index)\n",
    "\n",
    "X_train = pd.concat([X_train.drop(ohe_en_cols, axis=1), X_train_encoded_df], axis=1)\n",
    "X_test = pd.concat([X_test.drop(ohe_en_cols, axis=1), X_test_encoded_df], axis=1)"
   ]
  },
  {
   "cell_type": "code",
   "execution_count": null,
   "id": "0cd1ea01-512d-418f-a535-1ab7d60e5b7a",
   "metadata": {},
   "outputs": [],
   "source": []
  },
  {
   "cell_type": "code",
   "execution_count": null,
   "id": "7e729b7b-f7d1-491a-8969-871f72017da2",
   "metadata": {},
   "outputs": [],
   "source": []
  },
  {
   "cell_type": "code",
   "execution_count": null,
   "id": "6a756f01-6bdc-434d-8c1a-92b93426daf2",
   "metadata": {},
   "outputs": [],
   "source": []
  },
  {
   "cell_type": "code",
   "execution_count": 75,
   "id": "7ba1df05-72a1-46fd-87f7-b298f7fc27ae",
   "metadata": {},
   "outputs": [
    {
     "data": {
      "text/html": [
       "<style>#sk-container-id-9 {\n",
       "  /* Definition of color scheme common for light and dark mode */\n",
       "  --sklearn-color-text: black;\n",
       "  --sklearn-color-line: gray;\n",
       "  /* Definition of color scheme for unfitted estimators */\n",
       "  --sklearn-color-unfitted-level-0: #fff5e6;\n",
       "  --sklearn-color-unfitted-level-1: #f6e4d2;\n",
       "  --sklearn-color-unfitted-level-2: #ffe0b3;\n",
       "  --sklearn-color-unfitted-level-3: chocolate;\n",
       "  /* Definition of color scheme for fitted estimators */\n",
       "  --sklearn-color-fitted-level-0: #f0f8ff;\n",
       "  --sklearn-color-fitted-level-1: #d4ebff;\n",
       "  --sklearn-color-fitted-level-2: #b3dbfd;\n",
       "  --sklearn-color-fitted-level-3: cornflowerblue;\n",
       "\n",
       "  /* Specific color for light theme */\n",
       "  --sklearn-color-text-on-default-background: var(--sg-text-color, var(--theme-code-foreground, var(--jp-content-font-color1, black)));\n",
       "  --sklearn-color-background: var(--sg-background-color, var(--theme-background, var(--jp-layout-color0, white)));\n",
       "  --sklearn-color-border-box: var(--sg-text-color, var(--theme-code-foreground, var(--jp-content-font-color1, black)));\n",
       "  --sklearn-color-icon: #696969;\n",
       "\n",
       "  @media (prefers-color-scheme: dark) {\n",
       "    /* Redefinition of color scheme for dark theme */\n",
       "    --sklearn-color-text-on-default-background: var(--sg-text-color, var(--theme-code-foreground, var(--jp-content-font-color1, white)));\n",
       "    --sklearn-color-background: var(--sg-background-color, var(--theme-background, var(--jp-layout-color0, #111)));\n",
       "    --sklearn-color-border-box: var(--sg-text-color, var(--theme-code-foreground, var(--jp-content-font-color1, white)));\n",
       "    --sklearn-color-icon: #878787;\n",
       "  }\n",
       "}\n",
       "\n",
       "#sk-container-id-9 {\n",
       "  color: var(--sklearn-color-text);\n",
       "}\n",
       "\n",
       "#sk-container-id-9 pre {\n",
       "  padding: 0;\n",
       "}\n",
       "\n",
       "#sk-container-id-9 input.sk-hidden--visually {\n",
       "  border: 0;\n",
       "  clip: rect(1px 1px 1px 1px);\n",
       "  clip: rect(1px, 1px, 1px, 1px);\n",
       "  height: 1px;\n",
       "  margin: -1px;\n",
       "  overflow: hidden;\n",
       "  padding: 0;\n",
       "  position: absolute;\n",
       "  width: 1px;\n",
       "}\n",
       "\n",
       "#sk-container-id-9 div.sk-dashed-wrapped {\n",
       "  border: 1px dashed var(--sklearn-color-line);\n",
       "  margin: 0 0.4em 0.5em 0.4em;\n",
       "  box-sizing: border-box;\n",
       "  padding-bottom: 0.4em;\n",
       "  background-color: var(--sklearn-color-background);\n",
       "}\n",
       "\n",
       "#sk-container-id-9 div.sk-container {\n",
       "  /* jupyter's `normalize.less` sets `[hidden] { display: none; }`\n",
       "     but bootstrap.min.css set `[hidden] { display: none !important; }`\n",
       "     so we also need the `!important` here to be able to override the\n",
       "     default hidden behavior on the sphinx rendered scikit-learn.org.\n",
       "     See: https://github.com/scikit-learn/scikit-learn/issues/21755 */\n",
       "  display: inline-block !important;\n",
       "  position: relative;\n",
       "}\n",
       "\n",
       "#sk-container-id-9 div.sk-text-repr-fallback {\n",
       "  display: none;\n",
       "}\n",
       "\n",
       "div.sk-parallel-item,\n",
       "div.sk-serial,\n",
       "div.sk-item {\n",
       "  /* draw centered vertical line to link estimators */\n",
       "  background-image: linear-gradient(var(--sklearn-color-text-on-default-background), var(--sklearn-color-text-on-default-background));\n",
       "  background-size: 2px 100%;\n",
       "  background-repeat: no-repeat;\n",
       "  background-position: center center;\n",
       "}\n",
       "\n",
       "/* Parallel-specific style estimator block */\n",
       "\n",
       "#sk-container-id-9 div.sk-parallel-item::after {\n",
       "  content: \"\";\n",
       "  width: 100%;\n",
       "  border-bottom: 2px solid var(--sklearn-color-text-on-default-background);\n",
       "  flex-grow: 1;\n",
       "}\n",
       "\n",
       "#sk-container-id-9 div.sk-parallel {\n",
       "  display: flex;\n",
       "  align-items: stretch;\n",
       "  justify-content: center;\n",
       "  background-color: var(--sklearn-color-background);\n",
       "  position: relative;\n",
       "}\n",
       "\n",
       "#sk-container-id-9 div.sk-parallel-item {\n",
       "  display: flex;\n",
       "  flex-direction: column;\n",
       "}\n",
       "\n",
       "#sk-container-id-9 div.sk-parallel-item:first-child::after {\n",
       "  align-self: flex-end;\n",
       "  width: 50%;\n",
       "}\n",
       "\n",
       "#sk-container-id-9 div.sk-parallel-item:last-child::after {\n",
       "  align-self: flex-start;\n",
       "  width: 50%;\n",
       "}\n",
       "\n",
       "#sk-container-id-9 div.sk-parallel-item:only-child::after {\n",
       "  width: 0;\n",
       "}\n",
       "\n",
       "/* Serial-specific style estimator block */\n",
       "\n",
       "#sk-container-id-9 div.sk-serial {\n",
       "  display: flex;\n",
       "  flex-direction: column;\n",
       "  align-items: center;\n",
       "  background-color: var(--sklearn-color-background);\n",
       "  padding-right: 1em;\n",
       "  padding-left: 1em;\n",
       "}\n",
       "\n",
       "\n",
       "/* Toggleable style: style used for estimator/Pipeline/ColumnTransformer box that is\n",
       "clickable and can be expanded/collapsed.\n",
       "- Pipeline and ColumnTransformer use this feature and define the default style\n",
       "- Estimators will overwrite some part of the style using the `sk-estimator` class\n",
       "*/\n",
       "\n",
       "/* Pipeline and ColumnTransformer style (default) */\n",
       "\n",
       "#sk-container-id-9 div.sk-toggleable {\n",
       "  /* Default theme specific background. It is overwritten whether we have a\n",
       "  specific estimator or a Pipeline/ColumnTransformer */\n",
       "  background-color: var(--sklearn-color-background);\n",
       "}\n",
       "\n",
       "/* Toggleable label */\n",
       "#sk-container-id-9 label.sk-toggleable__label {\n",
       "  cursor: pointer;\n",
       "  display: block;\n",
       "  width: 100%;\n",
       "  margin-bottom: 0;\n",
       "  padding: 0.5em;\n",
       "  box-sizing: border-box;\n",
       "  text-align: center;\n",
       "}\n",
       "\n",
       "#sk-container-id-9 label.sk-toggleable__label-arrow:before {\n",
       "  /* Arrow on the left of the label */\n",
       "  content: \"▸\";\n",
       "  float: left;\n",
       "  margin-right: 0.25em;\n",
       "  color: var(--sklearn-color-icon);\n",
       "}\n",
       "\n",
       "#sk-container-id-9 label.sk-toggleable__label-arrow:hover:before {\n",
       "  color: var(--sklearn-color-text);\n",
       "}\n",
       "\n",
       "/* Toggleable content - dropdown */\n",
       "\n",
       "#sk-container-id-9 div.sk-toggleable__content {\n",
       "  max-height: 0;\n",
       "  max-width: 0;\n",
       "  overflow: hidden;\n",
       "  text-align: left;\n",
       "  /* unfitted */\n",
       "  background-color: var(--sklearn-color-unfitted-level-0);\n",
       "}\n",
       "\n",
       "#sk-container-id-9 div.sk-toggleable__content.fitted {\n",
       "  /* fitted */\n",
       "  background-color: var(--sklearn-color-fitted-level-0);\n",
       "}\n",
       "\n",
       "#sk-container-id-9 div.sk-toggleable__content pre {\n",
       "  margin: 0.2em;\n",
       "  border-radius: 0.25em;\n",
       "  color: var(--sklearn-color-text);\n",
       "  /* unfitted */\n",
       "  background-color: var(--sklearn-color-unfitted-level-0);\n",
       "}\n",
       "\n",
       "#sk-container-id-9 div.sk-toggleable__content.fitted pre {\n",
       "  /* unfitted */\n",
       "  background-color: var(--sklearn-color-fitted-level-0);\n",
       "}\n",
       "\n",
       "#sk-container-id-9 input.sk-toggleable__control:checked~div.sk-toggleable__content {\n",
       "  /* Expand drop-down */\n",
       "  max-height: 200px;\n",
       "  max-width: 100%;\n",
       "  overflow: auto;\n",
       "}\n",
       "\n",
       "#sk-container-id-9 input.sk-toggleable__control:checked~label.sk-toggleable__label-arrow:before {\n",
       "  content: \"▾\";\n",
       "}\n",
       "\n",
       "/* Pipeline/ColumnTransformer-specific style */\n",
       "\n",
       "#sk-container-id-9 div.sk-label input.sk-toggleable__control:checked~label.sk-toggleable__label {\n",
       "  color: var(--sklearn-color-text);\n",
       "  background-color: var(--sklearn-color-unfitted-level-2);\n",
       "}\n",
       "\n",
       "#sk-container-id-9 div.sk-label.fitted input.sk-toggleable__control:checked~label.sk-toggleable__label {\n",
       "  background-color: var(--sklearn-color-fitted-level-2);\n",
       "}\n",
       "\n",
       "/* Estimator-specific style */\n",
       "\n",
       "/* Colorize estimator box */\n",
       "#sk-container-id-9 div.sk-estimator input.sk-toggleable__control:checked~label.sk-toggleable__label {\n",
       "  /* unfitted */\n",
       "  background-color: var(--sklearn-color-unfitted-level-2);\n",
       "}\n",
       "\n",
       "#sk-container-id-9 div.sk-estimator.fitted input.sk-toggleable__control:checked~label.sk-toggleable__label {\n",
       "  /* fitted */\n",
       "  background-color: var(--sklearn-color-fitted-level-2);\n",
       "}\n",
       "\n",
       "#sk-container-id-9 div.sk-label label.sk-toggleable__label,\n",
       "#sk-container-id-9 div.sk-label label {\n",
       "  /* The background is the default theme color */\n",
       "  color: var(--sklearn-color-text-on-default-background);\n",
       "}\n",
       "\n",
       "/* On hover, darken the color of the background */\n",
       "#sk-container-id-9 div.sk-label:hover label.sk-toggleable__label {\n",
       "  color: var(--sklearn-color-text);\n",
       "  background-color: var(--sklearn-color-unfitted-level-2);\n",
       "}\n",
       "\n",
       "/* Label box, darken color on hover, fitted */\n",
       "#sk-container-id-9 div.sk-label.fitted:hover label.sk-toggleable__label.fitted {\n",
       "  color: var(--sklearn-color-text);\n",
       "  background-color: var(--sklearn-color-fitted-level-2);\n",
       "}\n",
       "\n",
       "/* Estimator label */\n",
       "\n",
       "#sk-container-id-9 div.sk-label label {\n",
       "  font-family: monospace;\n",
       "  font-weight: bold;\n",
       "  display: inline-block;\n",
       "  line-height: 1.2em;\n",
       "}\n",
       "\n",
       "#sk-container-id-9 div.sk-label-container {\n",
       "  text-align: center;\n",
       "}\n",
       "\n",
       "/* Estimator-specific */\n",
       "#sk-container-id-9 div.sk-estimator {\n",
       "  font-family: monospace;\n",
       "  border: 1px dotted var(--sklearn-color-border-box);\n",
       "  border-radius: 0.25em;\n",
       "  box-sizing: border-box;\n",
       "  margin-bottom: 0.5em;\n",
       "  /* unfitted */\n",
       "  background-color: var(--sklearn-color-unfitted-level-0);\n",
       "}\n",
       "\n",
       "#sk-container-id-9 div.sk-estimator.fitted {\n",
       "  /* fitted */\n",
       "  background-color: var(--sklearn-color-fitted-level-0);\n",
       "}\n",
       "\n",
       "/* on hover */\n",
       "#sk-container-id-9 div.sk-estimator:hover {\n",
       "  /* unfitted */\n",
       "  background-color: var(--sklearn-color-unfitted-level-2);\n",
       "}\n",
       "\n",
       "#sk-container-id-9 div.sk-estimator.fitted:hover {\n",
       "  /* fitted */\n",
       "  background-color: var(--sklearn-color-fitted-level-2);\n",
       "}\n",
       "\n",
       "/* Specification for estimator info (e.g. \"i\" and \"?\") */\n",
       "\n",
       "/* Common style for \"i\" and \"?\" */\n",
       "\n",
       ".sk-estimator-doc-link,\n",
       "a:link.sk-estimator-doc-link,\n",
       "a:visited.sk-estimator-doc-link {\n",
       "  float: right;\n",
       "  font-size: smaller;\n",
       "  line-height: 1em;\n",
       "  font-family: monospace;\n",
       "  background-color: var(--sklearn-color-background);\n",
       "  border-radius: 1em;\n",
       "  height: 1em;\n",
       "  width: 1em;\n",
       "  text-decoration: none !important;\n",
       "  margin-left: 1ex;\n",
       "  /* unfitted */\n",
       "  border: var(--sklearn-color-unfitted-level-1) 1pt solid;\n",
       "  color: var(--sklearn-color-unfitted-level-1);\n",
       "}\n",
       "\n",
       ".sk-estimator-doc-link.fitted,\n",
       "a:link.sk-estimator-doc-link.fitted,\n",
       "a:visited.sk-estimator-doc-link.fitted {\n",
       "  /* fitted */\n",
       "  border: var(--sklearn-color-fitted-level-1) 1pt solid;\n",
       "  color: var(--sklearn-color-fitted-level-1);\n",
       "}\n",
       "\n",
       "/* On hover */\n",
       "div.sk-estimator:hover .sk-estimator-doc-link:hover,\n",
       ".sk-estimator-doc-link:hover,\n",
       "div.sk-label-container:hover .sk-estimator-doc-link:hover,\n",
       ".sk-estimator-doc-link:hover {\n",
       "  /* unfitted */\n",
       "  background-color: var(--sklearn-color-unfitted-level-3);\n",
       "  color: var(--sklearn-color-background);\n",
       "  text-decoration: none;\n",
       "}\n",
       "\n",
       "div.sk-estimator.fitted:hover .sk-estimator-doc-link.fitted:hover,\n",
       ".sk-estimator-doc-link.fitted:hover,\n",
       "div.sk-label-container:hover .sk-estimator-doc-link.fitted:hover,\n",
       ".sk-estimator-doc-link.fitted:hover {\n",
       "  /* fitted */\n",
       "  background-color: var(--sklearn-color-fitted-level-3);\n",
       "  color: var(--sklearn-color-background);\n",
       "  text-decoration: none;\n",
       "}\n",
       "\n",
       "/* Span, style for the box shown on hovering the info icon */\n",
       ".sk-estimator-doc-link span {\n",
       "  display: none;\n",
       "  z-index: 9999;\n",
       "  position: relative;\n",
       "  font-weight: normal;\n",
       "  right: .2ex;\n",
       "  padding: .5ex;\n",
       "  margin: .5ex;\n",
       "  width: min-content;\n",
       "  min-width: 20ex;\n",
       "  max-width: 50ex;\n",
       "  color: var(--sklearn-color-text);\n",
       "  box-shadow: 2pt 2pt 4pt #999;\n",
       "  /* unfitted */\n",
       "  background: var(--sklearn-color-unfitted-level-0);\n",
       "  border: .5pt solid var(--sklearn-color-unfitted-level-3);\n",
       "}\n",
       "\n",
       ".sk-estimator-doc-link.fitted span {\n",
       "  /* fitted */\n",
       "  background: var(--sklearn-color-fitted-level-0);\n",
       "  border: var(--sklearn-color-fitted-level-3);\n",
       "}\n",
       "\n",
       ".sk-estimator-doc-link:hover span {\n",
       "  display: block;\n",
       "}\n",
       "\n",
       "/* \"?\"-specific style due to the `<a>` HTML tag */\n",
       "\n",
       "#sk-container-id-9 a.estimator_doc_link {\n",
       "  float: right;\n",
       "  font-size: 1rem;\n",
       "  line-height: 1em;\n",
       "  font-family: monospace;\n",
       "  background-color: var(--sklearn-color-background);\n",
       "  border-radius: 1rem;\n",
       "  height: 1rem;\n",
       "  width: 1rem;\n",
       "  text-decoration: none;\n",
       "  /* unfitted */\n",
       "  color: var(--sklearn-color-unfitted-level-1);\n",
       "  border: var(--sklearn-color-unfitted-level-1) 1pt solid;\n",
       "}\n",
       "\n",
       "#sk-container-id-9 a.estimator_doc_link.fitted {\n",
       "  /* fitted */\n",
       "  border: var(--sklearn-color-fitted-level-1) 1pt solid;\n",
       "  color: var(--sklearn-color-fitted-level-1);\n",
       "}\n",
       "\n",
       "/* On hover */\n",
       "#sk-container-id-9 a.estimator_doc_link:hover {\n",
       "  /* unfitted */\n",
       "  background-color: var(--sklearn-color-unfitted-level-3);\n",
       "  color: var(--sklearn-color-background);\n",
       "  text-decoration: none;\n",
       "}\n",
       "\n",
       "#sk-container-id-9 a.estimator_doc_link.fitted:hover {\n",
       "  /* fitted */\n",
       "  background-color: var(--sklearn-color-fitted-level-3);\n",
       "}\n",
       "</style><div id=\"sk-container-id-9\" class=\"sk-top-container\"><div class=\"sk-text-repr-fallback\"><pre>GradientBoostingRegressor(random_state=42)</pre><b>In a Jupyter environment, please rerun this cell to show the HTML representation or trust the notebook. <br />On GitHub, the HTML representation is unable to render, please try loading this page with nbviewer.org.</b></div><div class=\"sk-container\" hidden><div class=\"sk-item\"><div class=\"sk-estimator fitted sk-toggleable\"><input class=\"sk-toggleable__control sk-hidden--visually\" id=\"sk-estimator-id-9\" type=\"checkbox\" checked><label for=\"sk-estimator-id-9\" class=\"sk-toggleable__label fitted sk-toggleable__label-arrow fitted\">&nbsp;&nbsp;GradientBoostingRegressor<a class=\"sk-estimator-doc-link fitted\" rel=\"noreferrer\" target=\"_blank\" href=\"https://scikit-learn.org/1.5/modules/generated/sklearn.ensemble.GradientBoostingRegressor.html\">?<span>Documentation for GradientBoostingRegressor</span></a><span class=\"sk-estimator-doc-link fitted\">i<span>Fitted</span></span></label><div class=\"sk-toggleable__content fitted\"><pre>GradientBoostingRegressor(random_state=42)</pre></div> </div></div></div></div>"
      ],
      "text/plain": [
       "GradientBoostingRegressor(random_state=42)"
      ]
     },
     "execution_count": 75,
     "metadata": {},
     "output_type": "execute_result"
    }
   ],
   "source": [
    "from sklearn.ensemble import GradientBoostingRegressor\n",
    "from sklearn.metrics import mean_absolute_error,mean_squared_error,r2_score\n",
    "\n",
    "gbregressor = GradientBoostingRegressor(n_estimators=100, random_state=42)\n",
    "gbregressor.fit(X_train, y_train_log)"
   ]
  },
  {
   "cell_type": "code",
   "execution_count": 76,
   "id": "2a529e25-eb15-4b63-8931-243884f54ca8",
   "metadata": {},
   "outputs": [],
   "source": [
    "y_gbregress_pred_log = gbregressor.predict(X_test)\n",
    "y_train_gbregress_pred_log = gbregressor.predict(X_train)"
   ]
  },
  {
   "cell_type": "code",
   "execution_count": 77,
   "id": "28a3af20-0004-41ed-b9b3-ca9f6f7c268b",
   "metadata": {},
   "outputs": [],
   "source": [
    "y_gbregress_pred = np.exp(y_gbregress_pred_log)\n",
    "y_train_gbregress_pred = np.exp(y_train_gbregress_pred_log)\n",
    "y_test = np.exp(y_test_log)\n",
    "y_train = np.exp(y_train_log)"
   ]
  },
  {
   "cell_type": "code",
   "execution_count": 78,
   "id": "0acdae73-9df4-4cd3-b098-2cf745dcd623",
   "metadata": {},
   "outputs": [
    {
     "name": "stdout",
     "output_type": "stream",
     "text": [
      "MAE:  1.5445573914017365\n",
      "MSE:  18.528719376942515\n",
      "R2 Score:  0.8629263325471765\n"
     ]
    }
   ],
   "source": [
    "print('MAE: ', mean_absolute_error(y_test, y_gbregress_pred))\n",
    "print('MSE: ', mean_squared_error(y_test, y_gbregress_pred))\n",
    "print('R2 Score: ', r2_score(y_test, y_gbregress_pred))"
   ]
  },
  {
   "cell_type": "code",
   "execution_count": 79,
   "id": "e4bef753-892c-4eeb-8372-8d016f6c1d31",
   "metadata": {},
   "outputs": [
    {
     "name": "stdout",
     "output_type": "stream",
     "text": [
      "8.54461263042148\n",
      "18.528719376942515\n",
      "0.9201439957305182\n",
      "0.8629263325471765\n"
     ]
    }
   ],
   "source": [
    "print(mean_squared_error(y_train, y_train_gbregress_pred))\n",
    "print(mean_squared_error(y_test, y_gbregress_pred))\n",
    "\n",
    "print(r2_score(y_train, y_train_gbregress_pred))\n",
    "print(r2_score(y_test, y_gbregress_pred))"
   ]
  },
  {
   "cell_type": "code",
   "execution_count": null,
   "id": "40aeb9b4-99aa-4323-96fc-4a10fd399b0d",
   "metadata": {},
   "outputs": [],
   "source": []
  },
  {
   "cell_type": "code",
   "execution_count": null,
   "id": "a2b6b434-2d29-40e3-a4b2-8348687f971f",
   "metadata": {},
   "outputs": [],
   "source": []
  },
  {
   "cell_type": "code",
   "execution_count": 36,
   "id": "c99f5565-a949-4f9f-81d7-770a3e2034ac",
   "metadata": {},
   "outputs": [],
   "source": [
    "# Feature Selection"
   ]
  },
  {
   "cell_type": "code",
   "execution_count": 37,
   "id": "c3fccf37-c33d-4421-a6c5-078dec30e9b3",
   "metadata": {},
   "outputs": [],
   "source": [
    "cat_cols = ['Light', 'Headrest', 'Antenna', 'Headlamps', 'System', 'Variant Name', 'RTO', 'Engine Type', 'Fuel Suppy System', \n",
    "            'Wheel', 'Control', 'Warning', 'Turbo Charger', 'Steering Type', 'Color', 'Value Configuration', 'Body Type']\n",
    "num_cols = ['Mileage', 'Torque', 'Displacement', 'Acceleration', 'Cargo Volumn', 'No of Owner', 'Top Speed', 'Height']"
   ]
  },
  {
   "cell_type": "code",
   "execution_count": 38,
   "id": "735363c4-0880-43ce-b33b-305bfb2993c2",
   "metadata": {},
   "outputs": [],
   "source": [
    "cat_pattern = '|'.join(cat_cols)\n",
    "num_pattern = '|'.join(num_cols)\n",
    "\n",
    "X_train = X_train.drop(X_train.filter(regex=cat_pattern).columns, axis=1)\n",
    "X_test = X_test.drop(X_test.filter(regex=cat_pattern).columns, axis=1)\n",
    "\n",
    "X_train = X_train.drop(X_train.filter(regex=num_pattern).columns, axis=1)\n",
    "X_test = X_test.drop(X_test.filter(regex=num_pattern).columns, axis=1)\n"
   ]
  },
  {
   "cell_type": "code",
   "execution_count": null,
   "id": "d6009bf9-e925-4013-9c49-955ed9c2af41",
   "metadata": {},
   "outputs": [],
   "source": []
  }
 ],
 "metadata": {
  "kernelspec": {
   "display_name": "Python 3 (ipykernel)",
   "language": "python",
   "name": "python3"
  },
  "language_info": {
   "codemirror_mode": {
    "name": "ipython",
    "version": 3
   },
   "file_extension": ".py",
   "mimetype": "text/x-python",
   "name": "python",
   "nbconvert_exporter": "python",
   "pygments_lexer": "ipython3",
   "version": "3.12.3"
  }
 },
 "nbformat": 4,
 "nbformat_minor": 5
}
