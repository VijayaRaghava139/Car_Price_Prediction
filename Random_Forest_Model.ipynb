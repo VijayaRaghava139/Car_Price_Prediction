{
 "cells": [
  {
   "cell_type": "code",
   "execution_count": 295,
   "id": "82c7511d-7c83-4049-bc38-0b3bfac12039",
   "metadata": {},
   "outputs": [],
   "source": [
    "import pandas as pd\n",
    "import numpy as np\n",
    "import matplotlib.pyplot as plt\n",
    "import seaborn as sns\n",
    "import re"
   ]
  },
  {
   "cell_type": "code",
   "execution_count": 296,
   "id": "cafc5630-7a07-4c86-bdca-1ae92df3a905",
   "metadata": {},
   "outputs": [],
   "source": [
    "df = pd.read_csv('cleanedData.csv', low_memory=False)"
   ]
  },
  {
   "cell_type": "code",
   "execution_count": 297,
   "id": "78b1f74e-ecca-4437-a693-ef26cf2e0847",
   "metadata": {},
   "outputs": [
    {
     "data": {
      "text/html": [
       "<div>\n",
       "<style scoped>\n",
       "    .dataframe tbody tr th:only-of-type {\n",
       "        vertical-align: middle;\n",
       "    }\n",
       "\n",
       "    .dataframe tbody tr th {\n",
       "        vertical-align: top;\n",
       "    }\n",
       "\n",
       "    .dataframe thead th {\n",
       "        text-align: right;\n",
       "    }\n",
       "</style>\n",
       "<table border=\"1\" class=\"dataframe\">\n",
       "  <thead>\n",
       "    <tr style=\"text-align: right;\">\n",
       "      <th></th>\n",
       "      <th>Body Type</th>\n",
       "      <th>Driven(KM)</th>\n",
       "      <th>No of Owner</th>\n",
       "      <th>Brand(Model)</th>\n",
       "      <th>Variant Name</th>\n",
       "      <th>Price(Lakhs)</th>\n",
       "      <th>City</th>\n",
       "      <th>Fuel Type</th>\n",
       "      <th>RTO</th>\n",
       "      <th>Transmission</th>\n",
       "      <th>...</th>\n",
       "      <th>Steering Type</th>\n",
       "      <th>Turning Radius</th>\n",
       "      <th>Front Brake Type</th>\n",
       "      <th>Rear Brake Type</th>\n",
       "      <th>Top Speed(KMPH)</th>\n",
       "      <th>Acceleration</th>\n",
       "      <th>No Door Numbers</th>\n",
       "      <th>Cargo Volumn</th>\n",
       "      <th>Wheel Size</th>\n",
       "      <th>Age(Months)</th>\n",
       "    </tr>\n",
       "  </thead>\n",
       "  <tbody>\n",
       "    <tr>\n",
       "      <th>4607</th>\n",
       "      <td>Hatchback</td>\n",
       "      <td>40724.0</td>\n",
       "      <td>3</td>\n",
       "      <td>Hyundai i10</td>\n",
       "      <td>Magna</td>\n",
       "      <td>3.11</td>\n",
       "      <td>Hyderabad</td>\n",
       "      <td>Petrol</td>\n",
       "      <td>AP28</td>\n",
       "      <td>Manual</td>\n",
       "      <td>...</td>\n",
       "      <td>Power</td>\n",
       "      <td>NaN</td>\n",
       "      <td>Ventilated Disc</td>\n",
       "      <td>Drum</td>\n",
       "      <td>NaN</td>\n",
       "      <td>NaN</td>\n",
       "      <td>4.0</td>\n",
       "      <td>NaN</td>\n",
       "      <td>13.0</td>\n",
       "      <td>12.0</td>\n",
       "    </tr>\n",
       "    <tr>\n",
       "      <th>7250</th>\n",
       "      <td>Sedan</td>\n",
       "      <td>69000.0</td>\n",
       "      <td>1</td>\n",
       "      <td>Hyundai Verna</td>\n",
       "      <td>1.6 CRDI</td>\n",
       "      <td>2.50</td>\n",
       "      <td>Kolkata</td>\n",
       "      <td>Diesel</td>\n",
       "      <td>WB02</td>\n",
       "      <td>Manual</td>\n",
       "      <td>...</td>\n",
       "      <td>Power</td>\n",
       "      <td>5.2</td>\n",
       "      <td>Disc</td>\n",
       "      <td>Disc</td>\n",
       "      <td>NaN</td>\n",
       "      <td>NaN</td>\n",
       "      <td>4.0</td>\n",
       "      <td>NaN</td>\n",
       "      <td>15.0</td>\n",
       "      <td>11.0</td>\n",
       "    </tr>\n",
       "    <tr>\n",
       "      <th>1713</th>\n",
       "      <td>Sedan</td>\n",
       "      <td>143185.0</td>\n",
       "      <td>1</td>\n",
       "      <td>Honda Amaze</td>\n",
       "      <td>S i-Dtech</td>\n",
       "      <td>3.70</td>\n",
       "      <td>Chennai</td>\n",
       "      <td>Diesel</td>\n",
       "      <td>TN14</td>\n",
       "      <td>Manual</td>\n",
       "      <td>...</td>\n",
       "      <td>Power</td>\n",
       "      <td>4.7</td>\n",
       "      <td>Disc</td>\n",
       "      <td>Drum</td>\n",
       "      <td>170.0</td>\n",
       "      <td>17.0</td>\n",
       "      <td>4.0</td>\n",
       "      <td>400.0</td>\n",
       "      <td>NaN</td>\n",
       "      <td>10.0</td>\n",
       "    </tr>\n",
       "  </tbody>\n",
       "</table>\n",
       "<p>3 rows × 55 columns</p>\n",
       "</div>"
      ],
      "text/plain": [
       "      Body Type  Driven(KM)  No of Owner   Brand(Model) Variant Name  \\\n",
       "4607  Hatchback     40724.0            3    Hyundai i10        Magna   \n",
       "7250      Sedan     69000.0            1  Hyundai Verna     1.6 CRDI   \n",
       "1713      Sedan    143185.0            1    Honda Amaze    S i-Dtech   \n",
       "\n",
       "      Price(Lakhs)       City Fuel Type   RTO Transmission  ... Steering Type  \\\n",
       "4607          3.11  Hyderabad    Petrol  AP28       Manual  ...         Power   \n",
       "7250          2.50    Kolkata    Diesel  WB02       Manual  ...         Power   \n",
       "1713          3.70    Chennai    Diesel  TN14       Manual  ...         Power   \n",
       "\n",
       "     Turning Radius Front Brake Type Rear Brake Type Top Speed(KMPH)  \\\n",
       "4607            NaN  Ventilated Disc            Drum             NaN   \n",
       "7250            5.2             Disc            Disc             NaN   \n",
       "1713            4.7             Disc            Drum           170.0   \n",
       "\n",
       "     Acceleration No Door Numbers Cargo Volumn Wheel Size Age(Months)  \n",
       "4607          NaN             4.0          NaN       13.0        12.0  \n",
       "7250          NaN             4.0          NaN       15.0        11.0  \n",
       "1713         17.0             4.0        400.0        NaN        10.0  \n",
       "\n",
       "[3 rows x 55 columns]"
      ]
     },
     "execution_count": 297,
     "metadata": {},
     "output_type": "execute_result"
    }
   ],
   "source": [
    "df = df.drop(columns=['Unnamed: 0'], errors='ignore')\n",
    "df.sample(3)"
   ]
  },
  {
   "cell_type": "code",
   "execution_count": null,
   "id": "588a3982-41ba-42e1-a979-4ca3ce9e14a6",
   "metadata": {},
   "outputs": [],
   "source": []
  },
  {
   "cell_type": "code",
   "execution_count": 298,
   "id": "efdfee19-9781-418f-b097-ceaf063671de",
   "metadata": {},
   "outputs": [],
   "source": [
    "from sklearn.model_selection import train_test_split\n",
    "from sklearn.impute import KNNImputer\n",
    "from sklearn.impute import SimpleImputer"
   ]
  },
  {
   "cell_type": "code",
   "execution_count": 299,
   "id": "715c62f5-d33e-4904-8b36-89385c170262",
   "metadata": {},
   "outputs": [],
   "source": [
    "X = df.drop(columns=['Price(Lakhs)'])\n",
    "y = df['Price(Lakhs)']"
   ]
  },
  {
   "cell_type": "code",
   "execution_count": 300,
   "id": "8582fc01-d87a-44df-bffb-cbe76ba8375e",
   "metadata": {},
   "outputs": [],
   "source": [
    "y_log = np.log(y)"
   ]
  },
  {
   "cell_type": "code",
   "execution_count": 301,
   "id": "eba8f25d-eba4-472a-8194-2dfbc54383e6",
   "metadata": {},
   "outputs": [
    {
     "data": {
      "text/plain": [
       "((6695, 54), (1674, 54))"
      ]
     },
     "execution_count": 301,
     "metadata": {},
     "output_type": "execute_result"
    }
   ],
   "source": [
    "X_train, X_test, y_train_log, y_test_log = train_test_split(X, y_log, test_size = 0.2, random_state = 42)\n",
    "X_train.shape, X_test.shape"
   ]
  },
  {
   "cell_type": "code",
   "execution_count": null,
   "id": "3bd52e21-7aa6-4739-b528-c493150c1829",
   "metadata": {},
   "outputs": [],
   "source": []
  },
  {
   "cell_type": "code",
   "execution_count": 302,
   "id": "ef6cf33c-de4b-48fe-9691-500a709202bf",
   "metadata": {},
   "outputs": [
    {
     "data": {
      "text/plain": [
       "['Steering',\n",
       " 'Front',\n",
       " 'Lights',\n",
       " 'Rear',\n",
       " 'Opener',\n",
       " 'Beams',\n",
       " 'Bag',\n",
       " 'Seats',\n",
       " 'Drive Type']"
      ]
     },
     "execution_count": 302,
     "metadata": {},
     "output_type": "execute_result"
    }
   ],
   "source": [
    "# The columns with more than 80% same values has no proper contribution to the model.\n",
    "# So, the columns have to be dropped\n",
    "\n",
    "X_train_same_value_threshold = 0.8\n",
    "X_train_same_value_drop_list = [col for col in X_train.columns if X_train[col].value_counts(normalize=True).values[0] > X_train_same_value_threshold]\n",
    "X_train_same_value_drop_list"
   ]
  },
  {
   "cell_type": "code",
   "execution_count": 303,
   "id": "c0383fb9-4efb-4a4f-b9d6-815cd488532f",
   "metadata": {},
   "outputs": [],
   "source": [
    "X_train = X_train.drop(columns=X_train_same_value_drop_list, axis=1)\n",
    "X_test = X_test.drop(columns=X_train_same_value_drop_list, axis=1)"
   ]
  },
  {
   "cell_type": "code",
   "execution_count": 304,
   "id": "eeb9e087-736d-46e3-a1bf-12fde88232c9",
   "metadata": {},
   "outputs": [
    {
     "data": {
      "text/plain": [
       "[]"
      ]
     },
     "execution_count": 304,
     "metadata": {},
     "output_type": "execute_result"
    }
   ],
   "source": [
    "# The columns with more than 50% missing values have no proper contribution to the model.\n",
    "# So, the columns have to be dropped\n",
    "\n",
    "X_train_missing_value_threshold = 0.5\n",
    "X_train_missing_value_drop_list = [col for col in X_train.columns if X_train[col].isna().mean() > X_train_missing_value_threshold]\n",
    "X_train_missing_value_drop_list"
   ]
  },
  {
   "cell_type": "code",
   "execution_count": null,
   "id": "835a8136-ae3d-4c91-977a-5ed0dbe0037e",
   "metadata": {},
   "outputs": [],
   "source": []
  },
  {
   "cell_type": "code",
   "execution_count": 305,
   "id": "2818bc42-c59a-481f-880a-eddbebae2774",
   "metadata": {},
   "outputs": [],
   "source": [
    "# IMPUTING MISSING VALUES"
   ]
  },
  {
   "cell_type": "code",
   "execution_count": 306,
   "id": "8a0427ec-5f3d-47e0-9d82-b698415e0875",
   "metadata": {},
   "outputs": [],
   "source": [
    "num_col_list = X_train.select_dtypes(include=['float64']).columns.to_list()"
   ]
  },
  {
   "cell_type": "code",
   "execution_count": 307,
   "id": "b4653553-bb73-4d0e-ac61-2f8ad954cc93",
   "metadata": {},
   "outputs": [],
   "source": [
    "# Filling missing values with the KNNImputing method\n",
    "kimputer = KNNImputer(weights='distance')\n",
    "\n",
    "X_train[num_col_list] = kimputer.fit_transform(X_train[num_col_list])\n",
    "X_test[num_col_list] = kimputer.transform(X_test[num_col_list])"
   ]
  },
  {
   "cell_type": "code",
   "execution_count": 308,
   "id": "84a8c51f-065f-4ce1-8b1c-283d9873a639",
   "metadata": {},
   "outputs": [],
   "source": [
    "cat_col_list = X_train.select_dtypes(include=['object']).columns.to_list()"
   ]
  },
  {
   "cell_type": "code",
   "execution_count": 309,
   "id": "0d912310-31df-4ad4-afcf-f0ae3314787e",
   "metadata": {},
   "outputs": [],
   "source": [
    "for col in cat_col_list:\n",
    "    X_train.loc[X_train[col].isna(), col] = X_train[col].dropna().sample(X_train[col].isna().sum()).values\n",
    "    X_test.loc[X_test[col].isna(), col] = X_train[col].dropna().sample(X_test[col].isna().sum()).values"
   ]
  },
  {
   "cell_type": "code",
   "execution_count": null,
   "id": "f45b5fc3-eed0-435c-8ca9-81548e434f56",
   "metadata": {},
   "outputs": [],
   "source": []
  },
  {
   "cell_type": "code",
   "execution_count": 310,
   "id": "d1844e20-a0bb-4d69-a4fe-89afba219b50",
   "metadata": {},
   "outputs": [],
   "source": [
    "# DETECTING AND CAPPING OUTLIERS"
   ]
  },
  {
   "cell_type": "code",
   "execution_count": 311,
   "id": "e48d5266-3b3d-428b-b7c2-2bc7836b5b6f",
   "metadata": {},
   "outputs": [],
   "source": [
    "for col in num_col_list:\n",
    "\n",
    "    # Quantiles range calculation\n",
    "    Q1 = X_train[col].quantile(0.25)\n",
    "    Q3 = X_train[col].quantile(0.75)\n",
    "\n",
    "    # Inter Quartile Range calculation\n",
    "    IQR = Q3 - Q1\n",
    "\n",
    "    # Minimum and Maximum values calculations for outliers\n",
    "    lower_value = Q1 - 1.5 * IQR\n",
    "    upper_value = Q3 + 1.5 * IQR\n",
    "\n",
    "    # Capping outliers with the max and min values for Training data\n",
    "    X_train.loc[X_train[col] > upper_value, col] = upper_value\n",
    "    X_train.loc[X_train[col] < lower_value, col] = lower_value\n",
    "\n",
    "    # Capping outliers with the max and min values for Testing data\n",
    "    X_test.loc[X_test[col] > upper_value, col] = upper_value\n",
    "    X_test.loc[X_test[col] < lower_value, col] = lower_value"
   ]
  },
  {
   "cell_type": "code",
   "execution_count": null,
   "id": "0e10b02d-978a-4655-98c9-1afa888f38f0",
   "metadata": {},
   "outputs": [],
   "source": []
  },
  {
   "cell_type": "code",
   "execution_count": 312,
   "id": "cccbbb8b-1fea-4507-afdb-f975b542831d",
   "metadata": {},
   "outputs": [],
   "source": [
    "# CORRELATION ANALYSIS"
   ]
  },
  {
   "cell_type": "code",
   "execution_count": 313,
   "id": "ebb21b57-2e06-48ea-8960-985e6d03feae",
   "metadata": {},
   "outputs": [
    {
     "data": {
      "text/plain": [
       "[('Max Power', 'Torque'),\n",
       " ('Max Power', 'Displacement'),\n",
       " ('Max Power', 'Length(mm)'),\n",
       " ('Max Power', 'Width(mm)'),\n",
       " ('Max Power', 'Wheel Base(mm)'),\n",
       " ('Max Power', 'Kerb Weight(KG)'),\n",
       " ('Max Power', 'Turning Radius'),\n",
       " ('Max Power', 'Top Speed(KMPH)'),\n",
       " ('Max Power', 'Acceleration'),\n",
       " ('Max Power', 'Wheel Size'),\n",
       " ('Torque', 'Displacement'),\n",
       " ('Torque', 'Kerb Weight(KG)'),\n",
       " ('Displacement', 'Kerb Weight(KG)'),\n",
       " ('Displacement', 'Turning Radius'),\n",
       " ('Length(mm)', 'Width(mm)'),\n",
       " ('Length(mm)', 'Wheel Base(mm)'),\n",
       " ('Length(mm)', 'Turning Radius'),\n",
       " ('Width(mm)', 'Wheel Base(mm)'),\n",
       " ('Width(mm)', 'Front Tread'),\n",
       " ('Width(mm)', 'Rear Tread'),\n",
       " ('Width(mm)', 'Wheel Size'),\n",
       " ('Wheel Base(mm)', 'Turning Radius'),\n",
       " ('Front Tread', 'Rear Tread'),\n",
       " ('Kerb Weight(KG)', 'Turning Radius'),\n",
       " ('Top Speed(KMPH)', 'Acceleration')]"
      ]
     },
     "execution_count": 313,
     "metadata": {},
     "output_type": "execute_result"
    }
   ],
   "source": [
    "corr_matrix = pd.concat([X_train[num_col_list], y_train_log], axis=1).corr().abs()\n",
    "threshold = 0.8\n",
    "\n",
    "# Find columns that are highly correlated\n",
    "high_corr_pairs = np.where(corr_matrix > threshold)\n",
    "high_corr_pairs = [(corr_matrix.index[x], corr_matrix.columns[y]) for x, y in zip(*high_corr_pairs) if x != y and x < y]\n",
    "high_corr_pairs"
   ]
  },
  {
   "cell_type": "code",
   "execution_count": 314,
   "id": "1a5f49c8-0998-4c1e-b192-ba67d2b593b1",
   "metadata": {},
   "outputs": [],
   "source": [
    "# By observing the above highly correlating columns have to be dropped.\n",
    "# No of Cylinder and No Door Number columns not relating to the Target column. So, the columns have to be dropped. \n",
    "\n",
    "cols_drop_list = ['Turning Radius', 'Kerb Weight(KG)', 'Front Tread', 'Rear Tread', 'Wheel Size', \n",
    "                  'No Door Numbers', 'No of Cylinder', 'Wheel Base(mm)']\n",
    "X_train = X_train.drop(columns = cols_drop_list, axis=1)\n",
    "X_test = X_test.drop(columns = cols_drop_list, axis=1)"
   ]
  },
  {
   "cell_type": "code",
   "execution_count": 315,
   "id": "49935903-cc93-4938-ac5c-8fe70184d714",
   "metadata": {},
   "outputs": [],
   "source": [
    "X_train['Area'] = 2 * (X_train['Length(mm)'] + X_train['Width(mm)'])\n",
    "X_test['Area'] = 2 * (X_test['Length(mm)'] + X_test['Width(mm)'])\n",
    "\n",
    "X_train = X_train.drop(columns = ['Length(mm)', 'Width(mm)'], axis=1)\n",
    "X_test = X_test.drop(columns = ['Length(mm)', 'Width(mm)'], axis=1)"
   ]
  },
  {
   "cell_type": "code",
   "execution_count": 316,
   "id": "28dce51f-8a22-4458-b6f9-8a51c7d66468",
   "metadata": {},
   "outputs": [],
   "source": [
    "cat_cols_drop_list = ['Front Brake Type', 'Rear Brake Type']"
   ]
  },
  {
   "cell_type": "code",
   "execution_count": 317,
   "id": "b9ae86c8-03cc-453b-90cc-09a9613712e8",
   "metadata": {},
   "outputs": [],
   "source": [
    "# By domain knowledge, the above categorical columns will not affect the price much. So, the columns have to be dropped.\n",
    "\n",
    "X_train = X_train.drop(columns = cat_cols_drop_list, axis=1)\n",
    "X_test = X_test.drop(columns = cat_cols_drop_list, axis=1)"
   ]
  },
  {
   "cell_type": "code",
   "execution_count": null,
   "id": "c9f117d9-2754-4c13-bf2f-1736c3834de7",
   "metadata": {},
   "outputs": [],
   "source": []
  },
  {
   "cell_type": "code",
   "execution_count": 318,
   "id": "fa12b217-acfe-4e89-81b5-68737c749ef7",
   "metadata": {},
   "outputs": [],
   "source": [
    "from sklearn.preprocessing import StandardScaler, OneHotEncoder"
   ]
  },
  {
   "cell_type": "code",
   "execution_count": 319,
   "id": "d189ea2f-80cf-4f30-83a6-b232dd2c5a6e",
   "metadata": {},
   "outputs": [],
   "source": [
    "# SCALING NUMERICAL COLUMNS"
   ]
  },
  {
   "cell_type": "code",
   "execution_count": 320,
   "id": "2406ecce-7305-43e6-abec-514a8f15e073",
   "metadata": {},
   "outputs": [],
   "source": [
    "scaling_list = X_train.select_dtypes(include=['float64']).columns.to_list()\n",
    "\n",
    "scaler = StandardScaler()\n",
    "X_train[scaling_list] = scaler.fit_transform(X_train[scaling_list])\n",
    "X_test[scaling_list] = scaler.transform(X_test[scaling_list])"
   ]
  },
  {
   "cell_type": "code",
   "execution_count": 321,
   "id": "1464dbb7-54b6-4b84-bc3c-f1234ef4f881",
   "metadata": {},
   "outputs": [],
   "source": [
    "# ENCODING THE CATEGORICAL COLUMNS"
   ]
  },
  {
   "cell_type": "code",
   "execution_count": 322,
   "id": "30ae13aa-7a9e-4636-aabd-265561f26862",
   "metadata": {},
   "outputs": [],
   "source": [
    "import category_encoders as ce\n",
    "\n",
    "target_en_cols = ['Brand(Model)', 'Variant Name', 'RTO', 'Color', 'Engine Type', 'Fuel Suppy System']\n",
    "for col in target_en_cols:\n",
    "    mean_target = df.groupby(col)['Price(Lakhs)'].mean()\n",
    "    X_train[col] = X_train[col].map(mean_target)\n",
    "    X_test[col] = X_test[col].map(mean_target)"
   ]
  },
  {
   "cell_type": "code",
   "execution_count": 323,
   "id": "2144bf24-ded2-4ff1-9264-98d9c776ec64",
   "metadata": {},
   "outputs": [],
   "source": [
    "ohe_en_cols = ['Body Type', 'Fuel Type', 'Transmission', 'City', 'Value Configuration', 'Light', 'Headrest', 'Antenna', 'Headlamps', 'System', \n",
    "               'Wheel', 'Control', 'Warning', 'Turbo Charger', 'Steering Type']"
   ]
  },
  {
   "cell_type": "code",
   "execution_count": 324,
   "id": "dc1b440b-6944-446c-bec5-52e69f7d4eac",
   "metadata": {},
   "outputs": [],
   "source": [
    "ohencoder = OneHotEncoder(handle_unknown='ignore', sparse_output=False)\n",
    "\n",
    "X_train_encoded = ohencoder.fit_transform(X_train[ohe_en_cols])\n",
    "X_test_encoded = ohencoder.transform(X_test[ohe_en_cols])\n",
    "\n",
    "encoded_columns = ohencoder.get_feature_names_out(ohe_en_cols)\n",
    "\n",
    "X_train_encoded_df = pd.DataFrame(X_train_encoded, columns=encoded_columns, index=X_train.index)\n",
    "X_test_encoded_df = pd.DataFrame(X_test_encoded, columns=encoded_columns, index=X_test.index)\n",
    "\n",
    "X_train = pd.concat([X_train.drop(ohe_en_cols, axis=1), X_train_encoded_df], axis=1)\n",
    "X_test = pd.concat([X_test.drop(ohe_en_cols, axis=1), X_test_encoded_df], axis=1)"
   ]
  },
  {
   "cell_type": "code",
   "execution_count": null,
   "id": "b3d8f557-b988-4443-8bca-63d3f303d05c",
   "metadata": {},
   "outputs": [],
   "source": []
  },
  {
   "cell_type": "code",
   "execution_count": null,
   "id": "60a3bf54-32c5-4631-a6c1-531e88e90f18",
   "metadata": {},
   "outputs": [],
   "source": []
  },
  {
   "cell_type": "code",
   "execution_count": null,
   "id": "f8f7f631-ec71-40fd-b324-9ac6ca7f3c74",
   "metadata": {},
   "outputs": [],
   "source": []
  },
  {
   "cell_type": "code",
   "execution_count": 325,
   "id": "27f4bc42-d239-4a88-a828-a677817b8201",
   "metadata": {},
   "outputs": [
    {
     "data": {
      "text/html": [
       "<style>#sk-container-id-14 {\n",
       "  /* Definition of color scheme common for light and dark mode */\n",
       "  --sklearn-color-text: black;\n",
       "  --sklearn-color-line: gray;\n",
       "  /* Definition of color scheme for unfitted estimators */\n",
       "  --sklearn-color-unfitted-level-0: #fff5e6;\n",
       "  --sklearn-color-unfitted-level-1: #f6e4d2;\n",
       "  --sklearn-color-unfitted-level-2: #ffe0b3;\n",
       "  --sklearn-color-unfitted-level-3: chocolate;\n",
       "  /* Definition of color scheme for fitted estimators */\n",
       "  --sklearn-color-fitted-level-0: #f0f8ff;\n",
       "  --sklearn-color-fitted-level-1: #d4ebff;\n",
       "  --sklearn-color-fitted-level-2: #b3dbfd;\n",
       "  --sklearn-color-fitted-level-3: cornflowerblue;\n",
       "\n",
       "  /* Specific color for light theme */\n",
       "  --sklearn-color-text-on-default-background: var(--sg-text-color, var(--theme-code-foreground, var(--jp-content-font-color1, black)));\n",
       "  --sklearn-color-background: var(--sg-background-color, var(--theme-background, var(--jp-layout-color0, white)));\n",
       "  --sklearn-color-border-box: var(--sg-text-color, var(--theme-code-foreground, var(--jp-content-font-color1, black)));\n",
       "  --sklearn-color-icon: #696969;\n",
       "\n",
       "  @media (prefers-color-scheme: dark) {\n",
       "    /* Redefinition of color scheme for dark theme */\n",
       "    --sklearn-color-text-on-default-background: var(--sg-text-color, var(--theme-code-foreground, var(--jp-content-font-color1, white)));\n",
       "    --sklearn-color-background: var(--sg-background-color, var(--theme-background, var(--jp-layout-color0, #111)));\n",
       "    --sklearn-color-border-box: var(--sg-text-color, var(--theme-code-foreground, var(--jp-content-font-color1, white)));\n",
       "    --sklearn-color-icon: #878787;\n",
       "  }\n",
       "}\n",
       "\n",
       "#sk-container-id-14 {\n",
       "  color: var(--sklearn-color-text);\n",
       "}\n",
       "\n",
       "#sk-container-id-14 pre {\n",
       "  padding: 0;\n",
       "}\n",
       "\n",
       "#sk-container-id-14 input.sk-hidden--visually {\n",
       "  border: 0;\n",
       "  clip: rect(1px 1px 1px 1px);\n",
       "  clip: rect(1px, 1px, 1px, 1px);\n",
       "  height: 1px;\n",
       "  margin: -1px;\n",
       "  overflow: hidden;\n",
       "  padding: 0;\n",
       "  position: absolute;\n",
       "  width: 1px;\n",
       "}\n",
       "\n",
       "#sk-container-id-14 div.sk-dashed-wrapped {\n",
       "  border: 1px dashed var(--sklearn-color-line);\n",
       "  margin: 0 0.4em 0.5em 0.4em;\n",
       "  box-sizing: border-box;\n",
       "  padding-bottom: 0.4em;\n",
       "  background-color: var(--sklearn-color-background);\n",
       "}\n",
       "\n",
       "#sk-container-id-14 div.sk-container {\n",
       "  /* jupyter's `normalize.less` sets `[hidden] { display: none; }`\n",
       "     but bootstrap.min.css set `[hidden] { display: none !important; }`\n",
       "     so we also need the `!important` here to be able to override the\n",
       "     default hidden behavior on the sphinx rendered scikit-learn.org.\n",
       "     See: https://github.com/scikit-learn/scikit-learn/issues/21755 */\n",
       "  display: inline-block !important;\n",
       "  position: relative;\n",
       "}\n",
       "\n",
       "#sk-container-id-14 div.sk-text-repr-fallback {\n",
       "  display: none;\n",
       "}\n",
       "\n",
       "div.sk-parallel-item,\n",
       "div.sk-serial,\n",
       "div.sk-item {\n",
       "  /* draw centered vertical line to link estimators */\n",
       "  background-image: linear-gradient(var(--sklearn-color-text-on-default-background), var(--sklearn-color-text-on-default-background));\n",
       "  background-size: 2px 100%;\n",
       "  background-repeat: no-repeat;\n",
       "  background-position: center center;\n",
       "}\n",
       "\n",
       "/* Parallel-specific style estimator block */\n",
       "\n",
       "#sk-container-id-14 div.sk-parallel-item::after {\n",
       "  content: \"\";\n",
       "  width: 100%;\n",
       "  border-bottom: 2px solid var(--sklearn-color-text-on-default-background);\n",
       "  flex-grow: 1;\n",
       "}\n",
       "\n",
       "#sk-container-id-14 div.sk-parallel {\n",
       "  display: flex;\n",
       "  align-items: stretch;\n",
       "  justify-content: center;\n",
       "  background-color: var(--sklearn-color-background);\n",
       "  position: relative;\n",
       "}\n",
       "\n",
       "#sk-container-id-14 div.sk-parallel-item {\n",
       "  display: flex;\n",
       "  flex-direction: column;\n",
       "}\n",
       "\n",
       "#sk-container-id-14 div.sk-parallel-item:first-child::after {\n",
       "  align-self: flex-end;\n",
       "  width: 50%;\n",
       "}\n",
       "\n",
       "#sk-container-id-14 div.sk-parallel-item:last-child::after {\n",
       "  align-self: flex-start;\n",
       "  width: 50%;\n",
       "}\n",
       "\n",
       "#sk-container-id-14 div.sk-parallel-item:only-child::after {\n",
       "  width: 0;\n",
       "}\n",
       "\n",
       "/* Serial-specific style estimator block */\n",
       "\n",
       "#sk-container-id-14 div.sk-serial {\n",
       "  display: flex;\n",
       "  flex-direction: column;\n",
       "  align-items: center;\n",
       "  background-color: var(--sklearn-color-background);\n",
       "  padding-right: 1em;\n",
       "  padding-left: 1em;\n",
       "}\n",
       "\n",
       "\n",
       "/* Toggleable style: style used for estimator/Pipeline/ColumnTransformer box that is\n",
       "clickable and can be expanded/collapsed.\n",
       "- Pipeline and ColumnTransformer use this feature and define the default style\n",
       "- Estimators will overwrite some part of the style using the `sk-estimator` class\n",
       "*/\n",
       "\n",
       "/* Pipeline and ColumnTransformer style (default) */\n",
       "\n",
       "#sk-container-id-14 div.sk-toggleable {\n",
       "  /* Default theme specific background. It is overwritten whether we have a\n",
       "  specific estimator or a Pipeline/ColumnTransformer */\n",
       "  background-color: var(--sklearn-color-background);\n",
       "}\n",
       "\n",
       "/* Toggleable label */\n",
       "#sk-container-id-14 label.sk-toggleable__label {\n",
       "  cursor: pointer;\n",
       "  display: block;\n",
       "  width: 100%;\n",
       "  margin-bottom: 0;\n",
       "  padding: 0.5em;\n",
       "  box-sizing: border-box;\n",
       "  text-align: center;\n",
       "}\n",
       "\n",
       "#sk-container-id-14 label.sk-toggleable__label-arrow:before {\n",
       "  /* Arrow on the left of the label */\n",
       "  content: \"▸\";\n",
       "  float: left;\n",
       "  margin-right: 0.25em;\n",
       "  color: var(--sklearn-color-icon);\n",
       "}\n",
       "\n",
       "#sk-container-id-14 label.sk-toggleable__label-arrow:hover:before {\n",
       "  color: var(--sklearn-color-text);\n",
       "}\n",
       "\n",
       "/* Toggleable content - dropdown */\n",
       "\n",
       "#sk-container-id-14 div.sk-toggleable__content {\n",
       "  max-height: 0;\n",
       "  max-width: 0;\n",
       "  overflow: hidden;\n",
       "  text-align: left;\n",
       "  /* unfitted */\n",
       "  background-color: var(--sklearn-color-unfitted-level-0);\n",
       "}\n",
       "\n",
       "#sk-container-id-14 div.sk-toggleable__content.fitted {\n",
       "  /* fitted */\n",
       "  background-color: var(--sklearn-color-fitted-level-0);\n",
       "}\n",
       "\n",
       "#sk-container-id-14 div.sk-toggleable__content pre {\n",
       "  margin: 0.2em;\n",
       "  border-radius: 0.25em;\n",
       "  color: var(--sklearn-color-text);\n",
       "  /* unfitted */\n",
       "  background-color: var(--sklearn-color-unfitted-level-0);\n",
       "}\n",
       "\n",
       "#sk-container-id-14 div.sk-toggleable__content.fitted pre {\n",
       "  /* unfitted */\n",
       "  background-color: var(--sklearn-color-fitted-level-0);\n",
       "}\n",
       "\n",
       "#sk-container-id-14 input.sk-toggleable__control:checked~div.sk-toggleable__content {\n",
       "  /* Expand drop-down */\n",
       "  max-height: 200px;\n",
       "  max-width: 100%;\n",
       "  overflow: auto;\n",
       "}\n",
       "\n",
       "#sk-container-id-14 input.sk-toggleable__control:checked~label.sk-toggleable__label-arrow:before {\n",
       "  content: \"▾\";\n",
       "}\n",
       "\n",
       "/* Pipeline/ColumnTransformer-specific style */\n",
       "\n",
       "#sk-container-id-14 div.sk-label input.sk-toggleable__control:checked~label.sk-toggleable__label {\n",
       "  color: var(--sklearn-color-text);\n",
       "  background-color: var(--sklearn-color-unfitted-level-2);\n",
       "}\n",
       "\n",
       "#sk-container-id-14 div.sk-label.fitted input.sk-toggleable__control:checked~label.sk-toggleable__label {\n",
       "  background-color: var(--sklearn-color-fitted-level-2);\n",
       "}\n",
       "\n",
       "/* Estimator-specific style */\n",
       "\n",
       "/* Colorize estimator box */\n",
       "#sk-container-id-14 div.sk-estimator input.sk-toggleable__control:checked~label.sk-toggleable__label {\n",
       "  /* unfitted */\n",
       "  background-color: var(--sklearn-color-unfitted-level-2);\n",
       "}\n",
       "\n",
       "#sk-container-id-14 div.sk-estimator.fitted input.sk-toggleable__control:checked~label.sk-toggleable__label {\n",
       "  /* fitted */\n",
       "  background-color: var(--sklearn-color-fitted-level-2);\n",
       "}\n",
       "\n",
       "#sk-container-id-14 div.sk-label label.sk-toggleable__label,\n",
       "#sk-container-id-14 div.sk-label label {\n",
       "  /* The background is the default theme color */\n",
       "  color: var(--sklearn-color-text-on-default-background);\n",
       "}\n",
       "\n",
       "/* On hover, darken the color of the background */\n",
       "#sk-container-id-14 div.sk-label:hover label.sk-toggleable__label {\n",
       "  color: var(--sklearn-color-text);\n",
       "  background-color: var(--sklearn-color-unfitted-level-2);\n",
       "}\n",
       "\n",
       "/* Label box, darken color on hover, fitted */\n",
       "#sk-container-id-14 div.sk-label.fitted:hover label.sk-toggleable__label.fitted {\n",
       "  color: var(--sklearn-color-text);\n",
       "  background-color: var(--sklearn-color-fitted-level-2);\n",
       "}\n",
       "\n",
       "/* Estimator label */\n",
       "\n",
       "#sk-container-id-14 div.sk-label label {\n",
       "  font-family: monospace;\n",
       "  font-weight: bold;\n",
       "  display: inline-block;\n",
       "  line-height: 1.2em;\n",
       "}\n",
       "\n",
       "#sk-container-id-14 div.sk-label-container {\n",
       "  text-align: center;\n",
       "}\n",
       "\n",
       "/* Estimator-specific */\n",
       "#sk-container-id-14 div.sk-estimator {\n",
       "  font-family: monospace;\n",
       "  border: 1px dotted var(--sklearn-color-border-box);\n",
       "  border-radius: 0.25em;\n",
       "  box-sizing: border-box;\n",
       "  margin-bottom: 0.5em;\n",
       "  /* unfitted */\n",
       "  background-color: var(--sklearn-color-unfitted-level-0);\n",
       "}\n",
       "\n",
       "#sk-container-id-14 div.sk-estimator.fitted {\n",
       "  /* fitted */\n",
       "  background-color: var(--sklearn-color-fitted-level-0);\n",
       "}\n",
       "\n",
       "/* on hover */\n",
       "#sk-container-id-14 div.sk-estimator:hover {\n",
       "  /* unfitted */\n",
       "  background-color: var(--sklearn-color-unfitted-level-2);\n",
       "}\n",
       "\n",
       "#sk-container-id-14 div.sk-estimator.fitted:hover {\n",
       "  /* fitted */\n",
       "  background-color: var(--sklearn-color-fitted-level-2);\n",
       "}\n",
       "\n",
       "/* Specification for estimator info (e.g. \"i\" and \"?\") */\n",
       "\n",
       "/* Common style for \"i\" and \"?\" */\n",
       "\n",
       ".sk-estimator-doc-link,\n",
       "a:link.sk-estimator-doc-link,\n",
       "a:visited.sk-estimator-doc-link {\n",
       "  float: right;\n",
       "  font-size: smaller;\n",
       "  line-height: 1em;\n",
       "  font-family: monospace;\n",
       "  background-color: var(--sklearn-color-background);\n",
       "  border-radius: 1em;\n",
       "  height: 1em;\n",
       "  width: 1em;\n",
       "  text-decoration: none !important;\n",
       "  margin-left: 1ex;\n",
       "  /* unfitted */\n",
       "  border: var(--sklearn-color-unfitted-level-1) 1pt solid;\n",
       "  color: var(--sklearn-color-unfitted-level-1);\n",
       "}\n",
       "\n",
       ".sk-estimator-doc-link.fitted,\n",
       "a:link.sk-estimator-doc-link.fitted,\n",
       "a:visited.sk-estimator-doc-link.fitted {\n",
       "  /* fitted */\n",
       "  border: var(--sklearn-color-fitted-level-1) 1pt solid;\n",
       "  color: var(--sklearn-color-fitted-level-1);\n",
       "}\n",
       "\n",
       "/* On hover */\n",
       "div.sk-estimator:hover .sk-estimator-doc-link:hover,\n",
       ".sk-estimator-doc-link:hover,\n",
       "div.sk-label-container:hover .sk-estimator-doc-link:hover,\n",
       ".sk-estimator-doc-link:hover {\n",
       "  /* unfitted */\n",
       "  background-color: var(--sklearn-color-unfitted-level-3);\n",
       "  color: var(--sklearn-color-background);\n",
       "  text-decoration: none;\n",
       "}\n",
       "\n",
       "div.sk-estimator.fitted:hover .sk-estimator-doc-link.fitted:hover,\n",
       ".sk-estimator-doc-link.fitted:hover,\n",
       "div.sk-label-container:hover .sk-estimator-doc-link.fitted:hover,\n",
       ".sk-estimator-doc-link.fitted:hover {\n",
       "  /* fitted */\n",
       "  background-color: var(--sklearn-color-fitted-level-3);\n",
       "  color: var(--sklearn-color-background);\n",
       "  text-decoration: none;\n",
       "}\n",
       "\n",
       "/* Span, style for the box shown on hovering the info icon */\n",
       ".sk-estimator-doc-link span {\n",
       "  display: none;\n",
       "  z-index: 9999;\n",
       "  position: relative;\n",
       "  font-weight: normal;\n",
       "  right: .2ex;\n",
       "  padding: .5ex;\n",
       "  margin: .5ex;\n",
       "  width: min-content;\n",
       "  min-width: 20ex;\n",
       "  max-width: 50ex;\n",
       "  color: var(--sklearn-color-text);\n",
       "  box-shadow: 2pt 2pt 4pt #999;\n",
       "  /* unfitted */\n",
       "  background: var(--sklearn-color-unfitted-level-0);\n",
       "  border: .5pt solid var(--sklearn-color-unfitted-level-3);\n",
       "}\n",
       "\n",
       ".sk-estimator-doc-link.fitted span {\n",
       "  /* fitted */\n",
       "  background: var(--sklearn-color-fitted-level-0);\n",
       "  border: var(--sklearn-color-fitted-level-3);\n",
       "}\n",
       "\n",
       ".sk-estimator-doc-link:hover span {\n",
       "  display: block;\n",
       "}\n",
       "\n",
       "/* \"?\"-specific style due to the `<a>` HTML tag */\n",
       "\n",
       "#sk-container-id-14 a.estimator_doc_link {\n",
       "  float: right;\n",
       "  font-size: 1rem;\n",
       "  line-height: 1em;\n",
       "  font-family: monospace;\n",
       "  background-color: var(--sklearn-color-background);\n",
       "  border-radius: 1rem;\n",
       "  height: 1rem;\n",
       "  width: 1rem;\n",
       "  text-decoration: none;\n",
       "  /* unfitted */\n",
       "  color: var(--sklearn-color-unfitted-level-1);\n",
       "  border: var(--sklearn-color-unfitted-level-1) 1pt solid;\n",
       "}\n",
       "\n",
       "#sk-container-id-14 a.estimator_doc_link.fitted {\n",
       "  /* fitted */\n",
       "  border: var(--sklearn-color-fitted-level-1) 1pt solid;\n",
       "  color: var(--sklearn-color-fitted-level-1);\n",
       "}\n",
       "\n",
       "/* On hover */\n",
       "#sk-container-id-14 a.estimator_doc_link:hover {\n",
       "  /* unfitted */\n",
       "  background-color: var(--sklearn-color-unfitted-level-3);\n",
       "  color: var(--sklearn-color-background);\n",
       "  text-decoration: none;\n",
       "}\n",
       "\n",
       "#sk-container-id-14 a.estimator_doc_link.fitted:hover {\n",
       "  /* fitted */\n",
       "  background-color: var(--sklearn-color-fitted-level-3);\n",
       "}\n",
       "</style><div id=\"sk-container-id-14\" class=\"sk-top-container\"><div class=\"sk-text-repr-fallback\"><pre>RandomForestRegressor(max_depth=10, min_samples_leaf=4, n_estimators=150,\n",
       "                      random_state=42)</pre><b>In a Jupyter environment, please rerun this cell to show the HTML representation or trust the notebook. <br />On GitHub, the HTML representation is unable to render, please try loading this page with nbviewer.org.</b></div><div class=\"sk-container\" hidden><div class=\"sk-item\"><div class=\"sk-estimator fitted sk-toggleable\"><input class=\"sk-toggleable__control sk-hidden--visually\" id=\"sk-estimator-id-14\" type=\"checkbox\" checked><label for=\"sk-estimator-id-14\" class=\"sk-toggleable__label fitted sk-toggleable__label-arrow fitted\">&nbsp;&nbsp;RandomForestRegressor<a class=\"sk-estimator-doc-link fitted\" rel=\"noreferrer\" target=\"_blank\" href=\"https://scikit-learn.org/1.5/modules/generated/sklearn.ensemble.RandomForestRegressor.html\">?<span>Documentation for RandomForestRegressor</span></a><span class=\"sk-estimator-doc-link fitted\">i<span>Fitted</span></span></label><div class=\"sk-toggleable__content fitted\"><pre>RandomForestRegressor(max_depth=10, min_samples_leaf=4, n_estimators=150,\n",
       "                      random_state=42)</pre></div> </div></div></div></div>"
      ],
      "text/plain": [
       "RandomForestRegressor(max_depth=10, min_samples_leaf=4, n_estimators=150,\n",
       "                      random_state=42)"
      ]
     },
     "execution_count": 325,
     "metadata": {},
     "output_type": "execute_result"
    }
   ],
   "source": [
    "from sklearn.ensemble import RandomForestRegressor\n",
    "from sklearn.metrics import mean_absolute_error,mean_squared_error,r2_score\n",
    "\n",
    "rfregressor = RandomForestRegressor(n_estimators=150, max_depth=10, min_samples_leaf=4, random_state=42)\n",
    "rfregressor.fit(X_train, y_train_log)"
   ]
  },
  {
   "cell_type": "code",
   "execution_count": 326,
   "id": "52e392b6-8da6-4567-9a08-d22d82283e9b",
   "metadata": {},
   "outputs": [],
   "source": [
    "y_rfregress_pred_log = rfregressor.predict(X_test)\n",
    "y_train_rfregress_pred_log = rfregressor.predict(X_train)"
   ]
  },
  {
   "cell_type": "code",
   "execution_count": 327,
   "id": "58b39dcb-abae-4ec3-a5d2-21e422cdd372",
   "metadata": {},
   "outputs": [],
   "source": [
    "y_rfregress_pred = np.exp(y_rfregress_pred_log)\n",
    "y_train_rfregress_pred = np.exp(y_train_rfregress_pred_log)\n",
    "y_test = np.exp(y_test_log)\n",
    "y_train = np.exp(y_train_log)"
   ]
  },
  {
   "cell_type": "code",
   "execution_count": 328,
   "id": "9419031b-8dcc-4651-844a-f8857e14e942",
   "metadata": {},
   "outputs": [
    {
     "name": "stdout",
     "output_type": "stream",
     "text": [
      "MAE:  1.0886367728432988\n",
      "MSE:  8.882072630592045\n",
      "R2 Score:  0.9342912888209275\n"
     ]
    }
   ],
   "source": [
    "print('MAE: ', mean_absolute_error(y_test, y_rfregress_pred))\n",
    "print('MSE: ', mean_squared_error(y_test, y_rfregress_pred))\n",
    "print('R2 Score: ', r2_score(y_test, y_rfregress_pred))"
   ]
  },
  {
   "cell_type": "code",
   "execution_count": 329,
   "id": "ef58f487-4efa-49ae-8b50-6f0a90e5f281",
   "metadata": {},
   "outputs": [
    {
     "name": "stdout",
     "output_type": "stream",
     "text": [
      "4.153116867619554\n",
      "8.882072630592045\n",
      "0.9611859153062712\n",
      "0.9342912888209275\n"
     ]
    }
   ],
   "source": [
    "print(mean_squared_error(y_train, y_train_rfregress_pred))\n",
    "print(mean_squared_error(y_test, y_rfregress_pred))\n",
    "\n",
    "print(r2_score(y_train, y_train_rfregress_pred))\n",
    "print(r2_score(y_test, y_rfregress_pred))"
   ]
  },
  {
   "cell_type": "code",
   "execution_count": null,
   "id": "76c45e6f-613e-40bc-9544-2da908f9ef38",
   "metadata": {},
   "outputs": [],
   "source": []
  },
  {
   "cell_type": "code",
   "execution_count": null,
   "id": "9a6eab5c-2e6b-4f5e-91ab-5d8da3d49641",
   "metadata": {},
   "outputs": [],
   "source": []
  },
  {
   "cell_type": "code",
   "execution_count": 330,
   "id": "b69e7769-61dd-49e7-ae4a-ab1bc5f715c2",
   "metadata": {},
   "outputs": [],
   "source": [
    "# GRID SEARCH "
   ]
  },
  {
   "cell_type": "code",
   "execution_count": 352,
   "id": "2c39af5f-f8b9-4ddb-aa08-467bd46045af",
   "metadata": {},
   "outputs": [],
   "source": [
    "from scipy.stats import randint\n",
    "param_dist = {\n",
    "    'n_estimators': randint(100, 200),     \n",
    "    'max_depth': [None, 10, 20, 30],              \n",
    "    'bootstrap': [True, False]             \n",
    "    }"
   ]
  },
  {
   "cell_type": "code",
   "execution_count": 353,
   "id": "92526006-931a-4bad-9d82-7fe8a0c8c5c1",
   "metadata": {},
   "outputs": [
    {
     "name": "stdout",
     "output_type": "stream",
     "text": [
      "Fitting 5 folds for each of 50 candidates, totalling 250 fits\n"
     ]
    },
    {
     "name": "stderr",
     "output_type": "stream",
     "text": [
      "exception calling callback for <Future at 0x1fcb814ab70 state=finished raised TerminatedWorkerError>\n",
      "Traceback (most recent call last):\n",
      "  File \"C:\\Users\\HP\\Documents\\Python\\Lib\\site-packages\\joblib\\externals\\loky\\_base.py\", line 625, in _invoke_callbacks\n",
      "  File \"C:\\Users\\HP\\Documents\\Python\\Lib\\site-packages\\joblib\\parallel.py\", line 360, in __call__\n",
      "    n_jobs=default_parallel_config[\"n_jobs\"],\n",
      "            ^^^^^^^^^^^^^^^^^^^^^^^^^^^^^\n",
      "  File \"C:\\Users\\HP\\Documents\\Python\\Lib\\site-packages\\joblib\\parallel.py\", line 797, in dispatch_next\n",
      "    # main thread when calling `get_result`.\n",
      "           ^^^^^^^^^^^^^^^^^^^^^^^^^^^^^^^^^^\n",
      "  File \"C:\\Users\\HP\\Documents\\Python\\Lib\\site-packages\\joblib\\parallel.py\", line 864, in dispatch_one_batch\n",
      "    #            This method can be called either in the main thread         #\n",
      "                ^^^^^^^^^^^^^^^^^^^^^\n",
      "  File \"C:\\Users\\HP\\Documents\\Python\\Lib\\site-packages\\joblib\\parallel.py\", line 782, in _dispatch\n",
      "  File \"C:\\Users\\HP\\Documents\\Python\\Lib\\site-packages\\joblib\\_parallel_backends.py\", line 531, in apply_async\n",
      "    idle_worker_timeout=300, **memmappingexecutor_args):\n",
      "    ^^^^^^^^^^^^^^^^^^^^^^^^^^^^^^^^^^^^^^^^\n",
      "  File \"C:\\Users\\HP\\Documents\\Python\\Lib\\site-packages\\joblib\\externals\\loky\\reusable_executor.py\", line 177, in submit\n",
      "    mp.util.debug(\n",
      "       ^^^^^^^^^^^\n",
      "  File \"C:\\Users\\HP\\Documents\\Python\\Lib\\site-packages\\joblib\\externals\\loky\\process_executor.py\", line 1115, in submit\n",
      "    # of the main loop of executor_manager_thread from another thread (e.g.\n",
      "            ^^^^^^^^^^^^^^^^^^^^^^^^\n",
      "joblib.externals.loky.process_executor.TerminatedWorkerError: A worker process managed by the executor was unexpectedly terminated. This could be caused by a segmentation fault while calling the function or by an excessive memory usage causing the Operating System to kill the worker.\n",
      "\n"
     ]
    },
    {
     "ename": "TerminatedWorkerError",
     "evalue": "A worker process managed by the executor was unexpectedly terminated. This could be caused by a segmentation fault while calling the function or by an excessive memory usage causing the Operating System to kill the worker.\n",
     "output_type": "error",
     "traceback": [
      "\u001b[1;31m---------------------------------------------------------------------------\u001b[0m",
      "\u001b[1;31mTerminatedWorkerError\u001b[0m                     Traceback (most recent call last)",
      "Cell \u001b[1;32mIn[353], line 11\u001b[0m\n\u001b[0;32m      2\u001b[0m rf \u001b[38;5;241m=\u001b[39m RandomForestRegressor()\n\u001b[0;32m      3\u001b[0m random_search \u001b[38;5;241m=\u001b[39m RandomizedSearchCV(estimator\u001b[38;5;241m=\u001b[39mrf, \n\u001b[0;32m      4\u001b[0m                                    param_distributions\u001b[38;5;241m=\u001b[39mparam_dist, \n\u001b[0;32m      5\u001b[0m                                    n_iter\u001b[38;5;241m=\u001b[39m\u001b[38;5;241m50\u001b[39m,  \n\u001b[1;32m   (...)\u001b[0m\n\u001b[0;32m      8\u001b[0m                                    random_state\u001b[38;5;241m=\u001b[39m\u001b[38;5;241m42\u001b[39m, \n\u001b[0;32m      9\u001b[0m                                    n_jobs\u001b[38;5;241m=\u001b[39m\u001b[38;5;241m2\u001b[39m)\n\u001b[1;32m---> 11\u001b[0m \u001b[43mrandom_search\u001b[49m\u001b[38;5;241;43m.\u001b[39;49m\u001b[43mfit\u001b[49m\u001b[43m(\u001b[49m\u001b[43mX_train\u001b[49m\u001b[43m,\u001b[49m\u001b[43m \u001b[49m\u001b[43my_train\u001b[49m\u001b[43m)\u001b[49m\n\u001b[0;32m     13\u001b[0m \u001b[38;5;28mprint\u001b[39m(\u001b[38;5;124mf\u001b[39m\u001b[38;5;124m\"\u001b[39m\u001b[38;5;124mBest Parameters: \u001b[39m\u001b[38;5;132;01m{\u001b[39;00mrandom_search\u001b[38;5;241m.\u001b[39mbest_params_\u001b[38;5;132;01m}\u001b[39;00m\u001b[38;5;124m\"\u001b[39m)\n\u001b[0;32m     14\u001b[0m \u001b[38;5;28mprint\u001b[39m(\u001b[38;5;124mf\u001b[39m\u001b[38;5;124m\"\u001b[39m\u001b[38;5;124mBest Score: \u001b[39m\u001b[38;5;132;01m{\u001b[39;00mrandom_search\u001b[38;5;241m.\u001b[39mbest_score_\u001b[38;5;132;01m}\u001b[39;00m\u001b[38;5;124m\"\u001b[39m)\n",
      "File \u001b[1;32m~\\Documents\\Python\\Lib\\site-packages\\sklearn\\base.py:1473\u001b[0m, in \u001b[0;36m_fit_context.<locals>.decorator.<locals>.wrapper\u001b[1;34m(estimator, *args, **kwargs)\u001b[0m\n\u001b[0;32m   1466\u001b[0m     estimator\u001b[38;5;241m.\u001b[39m_validate_params()\n\u001b[0;32m   1468\u001b[0m \u001b[38;5;28;01mwith\u001b[39;00m config_context(\n\u001b[0;32m   1469\u001b[0m     skip_parameter_validation\u001b[38;5;241m=\u001b[39m(\n\u001b[0;32m   1470\u001b[0m         prefer_skip_nested_validation \u001b[38;5;129;01mor\u001b[39;00m global_skip_validation\n\u001b[0;32m   1471\u001b[0m     )\n\u001b[0;32m   1472\u001b[0m ):\n\u001b[1;32m-> 1473\u001b[0m     \u001b[38;5;28;01mreturn\u001b[39;00m \u001b[43mfit_method\u001b[49m\u001b[43m(\u001b[49m\u001b[43mestimator\u001b[49m\u001b[43m,\u001b[49m\u001b[43m \u001b[49m\u001b[38;5;241;43m*\u001b[39;49m\u001b[43margs\u001b[49m\u001b[43m,\u001b[49m\u001b[43m \u001b[49m\u001b[38;5;241;43m*\u001b[39;49m\u001b[38;5;241;43m*\u001b[39;49m\u001b[43mkwargs\u001b[49m\u001b[43m)\u001b[49m\n",
      "File \u001b[1;32m~\\Documents\\Python\\Lib\\site-packages\\sklearn\\model_selection\\_search.py:1018\u001b[0m, in \u001b[0;36mBaseSearchCV.fit\u001b[1;34m(self, X, y, **params)\u001b[0m\n\u001b[0;32m   1012\u001b[0m     results \u001b[38;5;241m=\u001b[39m \u001b[38;5;28mself\u001b[39m\u001b[38;5;241m.\u001b[39m_format_results(\n\u001b[0;32m   1013\u001b[0m         all_candidate_params, n_splits, all_out, all_more_results\n\u001b[0;32m   1014\u001b[0m     )\n\u001b[0;32m   1016\u001b[0m     \u001b[38;5;28;01mreturn\u001b[39;00m results\n\u001b[1;32m-> 1018\u001b[0m \u001b[38;5;28;43mself\u001b[39;49m\u001b[38;5;241;43m.\u001b[39;49m\u001b[43m_run_search\u001b[49m\u001b[43m(\u001b[49m\u001b[43mevaluate_candidates\u001b[49m\u001b[43m)\u001b[49m\n\u001b[0;32m   1020\u001b[0m \u001b[38;5;66;03m# multimetric is determined here because in the case of a callable\u001b[39;00m\n\u001b[0;32m   1021\u001b[0m \u001b[38;5;66;03m# self.scoring the return type is only known after calling\u001b[39;00m\n\u001b[0;32m   1022\u001b[0m first_test_score \u001b[38;5;241m=\u001b[39m all_out[\u001b[38;5;241m0\u001b[39m][\u001b[38;5;124m\"\u001b[39m\u001b[38;5;124mtest_scores\u001b[39m\u001b[38;5;124m\"\u001b[39m]\n",
      "File \u001b[1;32m~\\Documents\\Python\\Lib\\site-packages\\sklearn\\model_selection\\_search.py:1959\u001b[0m, in \u001b[0;36mRandomizedSearchCV._run_search\u001b[1;34m(self, evaluate_candidates)\u001b[0m\n\u001b[0;32m   1957\u001b[0m \u001b[38;5;28;01mdef\u001b[39;00m \u001b[38;5;21m_run_search\u001b[39m(\u001b[38;5;28mself\u001b[39m, evaluate_candidates):\n\u001b[0;32m   1958\u001b[0m \u001b[38;5;250m    \u001b[39m\u001b[38;5;124;03m\"\"\"Search n_iter candidates from param_distributions\"\"\"\u001b[39;00m\n\u001b[1;32m-> 1959\u001b[0m     \u001b[43mevaluate_candidates\u001b[49m\u001b[43m(\u001b[49m\n\u001b[0;32m   1960\u001b[0m \u001b[43m        \u001b[49m\u001b[43mParameterSampler\u001b[49m\u001b[43m(\u001b[49m\n\u001b[0;32m   1961\u001b[0m \u001b[43m            \u001b[49m\u001b[38;5;28;43mself\u001b[39;49m\u001b[38;5;241;43m.\u001b[39;49m\u001b[43mparam_distributions\u001b[49m\u001b[43m,\u001b[49m\u001b[43m \u001b[49m\u001b[38;5;28;43mself\u001b[39;49m\u001b[38;5;241;43m.\u001b[39;49m\u001b[43mn_iter\u001b[49m\u001b[43m,\u001b[49m\u001b[43m \u001b[49m\u001b[43mrandom_state\u001b[49m\u001b[38;5;241;43m=\u001b[39;49m\u001b[38;5;28;43mself\u001b[39;49m\u001b[38;5;241;43m.\u001b[39;49m\u001b[43mrandom_state\u001b[49m\n\u001b[0;32m   1962\u001b[0m \u001b[43m        \u001b[49m\u001b[43m)\u001b[49m\n\u001b[0;32m   1963\u001b[0m \u001b[43m    \u001b[49m\u001b[43m)\u001b[49m\n",
      "File \u001b[1;32m~\\Documents\\Python\\Lib\\site-packages\\sklearn\\model_selection\\_search.py:964\u001b[0m, in \u001b[0;36mBaseSearchCV.fit.<locals>.evaluate_candidates\u001b[1;34m(candidate_params, cv, more_results)\u001b[0m\n\u001b[0;32m    956\u001b[0m \u001b[38;5;28;01mif\u001b[39;00m \u001b[38;5;28mself\u001b[39m\u001b[38;5;241m.\u001b[39mverbose \u001b[38;5;241m>\u001b[39m \u001b[38;5;241m0\u001b[39m:\n\u001b[0;32m    957\u001b[0m     \u001b[38;5;28mprint\u001b[39m(\n\u001b[0;32m    958\u001b[0m         \u001b[38;5;124m\"\u001b[39m\u001b[38;5;124mFitting \u001b[39m\u001b[38;5;132;01m{0}\u001b[39;00m\u001b[38;5;124m folds for each of \u001b[39m\u001b[38;5;132;01m{1}\u001b[39;00m\u001b[38;5;124m candidates,\u001b[39m\u001b[38;5;124m\"\u001b[39m\n\u001b[0;32m    959\u001b[0m         \u001b[38;5;124m\"\u001b[39m\u001b[38;5;124m totalling \u001b[39m\u001b[38;5;132;01m{2}\u001b[39;00m\u001b[38;5;124m fits\u001b[39m\u001b[38;5;124m\"\u001b[39m\u001b[38;5;241m.\u001b[39mformat(\n\u001b[0;32m    960\u001b[0m             n_splits, n_candidates, n_candidates \u001b[38;5;241m*\u001b[39m n_splits\n\u001b[0;32m    961\u001b[0m         )\n\u001b[0;32m    962\u001b[0m     )\n\u001b[1;32m--> 964\u001b[0m out \u001b[38;5;241m=\u001b[39m \u001b[43mparallel\u001b[49m\u001b[43m(\u001b[49m\n\u001b[0;32m    965\u001b[0m \u001b[43m    \u001b[49m\u001b[43mdelayed\u001b[49m\u001b[43m(\u001b[49m\u001b[43m_fit_and_score\u001b[49m\u001b[43m)\u001b[49m\u001b[43m(\u001b[49m\n\u001b[0;32m    966\u001b[0m \u001b[43m        \u001b[49m\u001b[43mclone\u001b[49m\u001b[43m(\u001b[49m\u001b[43mbase_estimator\u001b[49m\u001b[43m)\u001b[49m\u001b[43m,\u001b[49m\n\u001b[0;32m    967\u001b[0m \u001b[43m        \u001b[49m\u001b[43mX\u001b[49m\u001b[43m,\u001b[49m\n\u001b[0;32m    968\u001b[0m \u001b[43m        \u001b[49m\u001b[43my\u001b[49m\u001b[43m,\u001b[49m\n\u001b[0;32m    969\u001b[0m \u001b[43m        \u001b[49m\u001b[43mtrain\u001b[49m\u001b[38;5;241;43m=\u001b[39;49m\u001b[43mtrain\u001b[49m\u001b[43m,\u001b[49m\n\u001b[0;32m    970\u001b[0m \u001b[43m        \u001b[49m\u001b[43mtest\u001b[49m\u001b[38;5;241;43m=\u001b[39;49m\u001b[43mtest\u001b[49m\u001b[43m,\u001b[49m\n\u001b[0;32m    971\u001b[0m \u001b[43m        \u001b[49m\u001b[43mparameters\u001b[49m\u001b[38;5;241;43m=\u001b[39;49m\u001b[43mparameters\u001b[49m\u001b[43m,\u001b[49m\n\u001b[0;32m    972\u001b[0m \u001b[43m        \u001b[49m\u001b[43msplit_progress\u001b[49m\u001b[38;5;241;43m=\u001b[39;49m\u001b[43m(\u001b[49m\u001b[43msplit_idx\u001b[49m\u001b[43m,\u001b[49m\u001b[43m \u001b[49m\u001b[43mn_splits\u001b[49m\u001b[43m)\u001b[49m\u001b[43m,\u001b[49m\n\u001b[0;32m    973\u001b[0m \u001b[43m        \u001b[49m\u001b[43mcandidate_progress\u001b[49m\u001b[38;5;241;43m=\u001b[39;49m\u001b[43m(\u001b[49m\u001b[43mcand_idx\u001b[49m\u001b[43m,\u001b[49m\u001b[43m \u001b[49m\u001b[43mn_candidates\u001b[49m\u001b[43m)\u001b[49m\u001b[43m,\u001b[49m\n\u001b[0;32m    974\u001b[0m \u001b[43m        \u001b[49m\u001b[38;5;241;43m*\u001b[39;49m\u001b[38;5;241;43m*\u001b[39;49m\u001b[43mfit_and_score_kwargs\u001b[49m\u001b[43m,\u001b[49m\n\u001b[0;32m    975\u001b[0m \u001b[43m    \u001b[49m\u001b[43m)\u001b[49m\n\u001b[0;32m    976\u001b[0m \u001b[43m    \u001b[49m\u001b[38;5;28;43;01mfor\u001b[39;49;00m\u001b[43m \u001b[49m\u001b[43m(\u001b[49m\u001b[43mcand_idx\u001b[49m\u001b[43m,\u001b[49m\u001b[43m \u001b[49m\u001b[43mparameters\u001b[49m\u001b[43m)\u001b[49m\u001b[43m,\u001b[49m\u001b[43m \u001b[49m\u001b[43m(\u001b[49m\u001b[43msplit_idx\u001b[49m\u001b[43m,\u001b[49m\u001b[43m \u001b[49m\u001b[43m(\u001b[49m\u001b[43mtrain\u001b[49m\u001b[43m,\u001b[49m\u001b[43m \u001b[49m\u001b[43mtest\u001b[49m\u001b[43m)\u001b[49m\u001b[43m)\u001b[49m\u001b[43m \u001b[49m\u001b[38;5;129;43;01min\u001b[39;49;00m\u001b[43m \u001b[49m\u001b[43mproduct\u001b[49m\u001b[43m(\u001b[49m\n\u001b[0;32m    977\u001b[0m \u001b[43m        \u001b[49m\u001b[38;5;28;43menumerate\u001b[39;49m\u001b[43m(\u001b[49m\u001b[43mcandidate_params\u001b[49m\u001b[43m)\u001b[49m\u001b[43m,\u001b[49m\n\u001b[0;32m    978\u001b[0m \u001b[43m        \u001b[49m\u001b[38;5;28;43menumerate\u001b[39;49m\u001b[43m(\u001b[49m\u001b[43mcv\u001b[49m\u001b[38;5;241;43m.\u001b[39;49m\u001b[43msplit\u001b[49m\u001b[43m(\u001b[49m\u001b[43mX\u001b[49m\u001b[43m,\u001b[49m\u001b[43m \u001b[49m\u001b[43my\u001b[49m\u001b[43m,\u001b[49m\u001b[43m \u001b[49m\u001b[38;5;241;43m*\u001b[39;49m\u001b[38;5;241;43m*\u001b[39;49m\u001b[43mrouted_params\u001b[49m\u001b[38;5;241;43m.\u001b[39;49m\u001b[43msplitter\u001b[49m\u001b[38;5;241;43m.\u001b[39;49m\u001b[43msplit\u001b[49m\u001b[43m)\u001b[49m\u001b[43m)\u001b[49m\u001b[43m,\u001b[49m\n\u001b[0;32m    979\u001b[0m \u001b[43m    \u001b[49m\u001b[43m)\u001b[49m\n\u001b[0;32m    980\u001b[0m \u001b[43m\u001b[49m\u001b[43m)\u001b[49m\n\u001b[0;32m    982\u001b[0m \u001b[38;5;28;01mif\u001b[39;00m \u001b[38;5;28mlen\u001b[39m(out) \u001b[38;5;241m<\u001b[39m \u001b[38;5;241m1\u001b[39m:\n\u001b[0;32m    983\u001b[0m     \u001b[38;5;28;01mraise\u001b[39;00m \u001b[38;5;167;01mValueError\u001b[39;00m(\n\u001b[0;32m    984\u001b[0m         \u001b[38;5;124m\"\u001b[39m\u001b[38;5;124mNo fits were performed. \u001b[39m\u001b[38;5;124m\"\u001b[39m\n\u001b[0;32m    985\u001b[0m         \u001b[38;5;124m\"\u001b[39m\u001b[38;5;124mWas the CV iterator empty? \u001b[39m\u001b[38;5;124m\"\u001b[39m\n\u001b[0;32m    986\u001b[0m         \u001b[38;5;124m\"\u001b[39m\u001b[38;5;124mWere there no candidates?\u001b[39m\u001b[38;5;124m\"\u001b[39m\n\u001b[0;32m    987\u001b[0m     )\n",
      "File \u001b[1;32m~\\Documents\\Python\\Lib\\site-packages\\sklearn\\utils\\parallel.py:74\u001b[0m, in \u001b[0;36mParallel.__call__\u001b[1;34m(self, iterable)\u001b[0m\n\u001b[0;32m     69\u001b[0m config \u001b[38;5;241m=\u001b[39m get_config()\n\u001b[0;32m     70\u001b[0m iterable_with_config \u001b[38;5;241m=\u001b[39m (\n\u001b[0;32m     71\u001b[0m     (_with_config(delayed_func, config), args, kwargs)\n\u001b[0;32m     72\u001b[0m     \u001b[38;5;28;01mfor\u001b[39;00m delayed_func, args, kwargs \u001b[38;5;129;01min\u001b[39;00m iterable\n\u001b[0;32m     73\u001b[0m )\n\u001b[1;32m---> 74\u001b[0m \u001b[38;5;28;01mreturn\u001b[39;00m \u001b[38;5;28;43msuper\u001b[39;49m\u001b[43m(\u001b[49m\u001b[43m)\u001b[49m\u001b[38;5;241;43m.\u001b[39;49m\u001b[38;5;21;43m__call__\u001b[39;49m\u001b[43m(\u001b[49m\u001b[43miterable_with_config\u001b[49m\u001b[43m)\u001b[49m\n",
      "File \u001b[1;32m~\\Documents\\Python\\Lib\\site-packages\\joblib\\parallel.py:1061\u001b[0m, in \u001b[0;36m__call__\u001b[1;34m(self, iterable)\u001b[0m\n\u001b[0;32m    946\u001b[0m \u001b[38;5;28;01mclass\u001b[39;00m \u001b[38;5;21;01mParallel\u001b[39;00m(Logger):\n\u001b[0;32m    947\u001b[0m \u001b[38;5;250m    \u001b[39m\u001b[38;5;124;03m''' Helper class for readable parallel mapping.\u001b[39;00m\n\u001b[0;32m    948\u001b[0m \n\u001b[0;32m    949\u001b[0m \u001b[38;5;124;03m        Read more in the :ref:`User Guide <parallel>`.\u001b[39;00m\n\u001b[0;32m    950\u001b[0m \n\u001b[0;32m    951\u001b[0m \u001b[38;5;124;03m        Parameters\u001b[39;00m\n\u001b[0;32m    952\u001b[0m \u001b[38;5;124;03m        ----------\u001b[39;00m\n\u001b[0;32m    953\u001b[0m \u001b[38;5;124;03m        n_jobs: int, default=None\u001b[39;00m\n\u001b[0;32m    954\u001b[0m \u001b[38;5;124;03m            The maximum number of concurrently running jobs, such as the number\u001b[39;00m\n\u001b[0;32m    955\u001b[0m \u001b[38;5;124;03m            of Python worker processes when ``backend=\"loky\"`` or the size of\u001b[39;00m\n\u001b[0;32m    956\u001b[0m \u001b[38;5;124;03m            the thread-pool when ``backend=\"threading\"``.\u001b[39;00m\n\u001b[0;32m    957\u001b[0m \u001b[38;5;124;03m            This argument is converted to an integer, rounded below for float.\u001b[39;00m\n\u001b[0;32m    958\u001b[0m \u001b[38;5;124;03m            If -1 is given, `joblib` tries to use all CPUs. The number of CPUs\u001b[39;00m\n\u001b[0;32m    959\u001b[0m \u001b[38;5;124;03m            ``n_cpus`` is obtained with :func:`~cpu_count`.\u001b[39;00m\n\u001b[0;32m    960\u001b[0m \u001b[38;5;124;03m            For n_jobs below -1, (n_cpus + 1 + n_jobs) are used. For instance,\u001b[39;00m\n\u001b[0;32m    961\u001b[0m \u001b[38;5;124;03m            using ``n_jobs=-2`` will result in all CPUs but one being used.\u001b[39;00m\n\u001b[0;32m    962\u001b[0m \u001b[38;5;124;03m            This argument can also go above ``n_cpus``, which will cause\u001b[39;00m\n\u001b[0;32m    963\u001b[0m \u001b[38;5;124;03m            oversubscription. In some cases, slight oversubscription can be\u001b[39;00m\n\u001b[0;32m    964\u001b[0m \u001b[38;5;124;03m            beneficial, e.g., for tasks with large I/O operations.\u001b[39;00m\n\u001b[0;32m    965\u001b[0m \u001b[38;5;124;03m            If 1 is given, no parallel computing code is used at all, and the\u001b[39;00m\n\u001b[0;32m    966\u001b[0m \u001b[38;5;124;03m            behavior amounts to a simple python `for` loop. This mode is not\u001b[39;00m\n\u001b[0;32m    967\u001b[0m \u001b[38;5;124;03m            compatible with ``timeout``.\u001b[39;00m\n\u001b[0;32m    968\u001b[0m \u001b[38;5;124;03m            None is a marker for 'unset' that will be interpreted as n_jobs=1\u001b[39;00m\n\u001b[0;32m    969\u001b[0m \u001b[38;5;124;03m            unless the call is performed under a :func:`~parallel_config`\u001b[39;00m\n\u001b[0;32m    970\u001b[0m \u001b[38;5;124;03m            context manager that sets another value for ``n_jobs``.\u001b[39;00m\n\u001b[0;32m    971\u001b[0m \u001b[38;5;124;03m            If n_jobs = 0 then a ValueError is raised.\u001b[39;00m\n\u001b[0;32m    972\u001b[0m \u001b[38;5;124;03m        backend: str, ParallelBackendBase instance or None, default='loky'\u001b[39;00m\n\u001b[0;32m    973\u001b[0m \u001b[38;5;124;03m            Specify the parallelization backend implementation.\u001b[39;00m\n\u001b[0;32m    974\u001b[0m \u001b[38;5;124;03m            Supported backends are:\u001b[39;00m\n\u001b[0;32m    975\u001b[0m \n\u001b[0;32m    976\u001b[0m \u001b[38;5;124;03m            - \"loky\" used by default, can induce some\u001b[39;00m\n\u001b[0;32m    977\u001b[0m \u001b[38;5;124;03m              communication and memory overhead when exchanging input and\u001b[39;00m\n\u001b[0;32m    978\u001b[0m \u001b[38;5;124;03m              output data with the worker Python processes. On some rare\u001b[39;00m\n\u001b[0;32m    979\u001b[0m \u001b[38;5;124;03m              systems (such as Pyiodide), the loky backend may not be\u001b[39;00m\n\u001b[0;32m    980\u001b[0m \u001b[38;5;124;03m              available.\u001b[39;00m\n\u001b[0;32m    981\u001b[0m \u001b[38;5;124;03m            - \"multiprocessing\" previous process-based backend based on\u001b[39;00m\n\u001b[0;32m    982\u001b[0m \u001b[38;5;124;03m              `multiprocessing.Pool`. Less robust than `loky`.\u001b[39;00m\n\u001b[0;32m    983\u001b[0m \u001b[38;5;124;03m            - \"threading\" is a very low-overhead backend but it suffers\u001b[39;00m\n\u001b[0;32m    984\u001b[0m \u001b[38;5;124;03m              from the Python Global Interpreter Lock if the called function\u001b[39;00m\n\u001b[0;32m    985\u001b[0m \u001b[38;5;124;03m              relies a lot on Python objects. \"threading\" is mostly useful\u001b[39;00m\n\u001b[0;32m    986\u001b[0m \u001b[38;5;124;03m              when the execution bottleneck is a compiled extension that\u001b[39;00m\n\u001b[0;32m    987\u001b[0m \u001b[38;5;124;03m              explicitly releases the GIL (for instance a Cython loop wrapped\u001b[39;00m\n\u001b[0;32m    988\u001b[0m \u001b[38;5;124;03m              in a \"with nogil\" block or an expensive call to a library such\u001b[39;00m\n\u001b[0;32m    989\u001b[0m \u001b[38;5;124;03m              as NumPy).\u001b[39;00m\n\u001b[0;32m    990\u001b[0m \u001b[38;5;124;03m            - finally, you can register backends by calling\u001b[39;00m\n\u001b[0;32m    991\u001b[0m \u001b[38;5;124;03m              :func:`~register_parallel_backend`. This will allow you to\u001b[39;00m\n\u001b[0;32m    992\u001b[0m \u001b[38;5;124;03m              implement a backend of your liking.\u001b[39;00m\n\u001b[0;32m    993\u001b[0m \n\u001b[0;32m    994\u001b[0m \u001b[38;5;124;03m            It is not recommended to hard-code the backend name in a call to\u001b[39;00m\n\u001b[0;32m    995\u001b[0m \u001b[38;5;124;03m            :class:`~Parallel` in a library. Instead it is recommended to set\u001b[39;00m\n\u001b[0;32m    996\u001b[0m \u001b[38;5;124;03m            soft hints (prefer) or hard constraints (require) so as to make it\u001b[39;00m\n\u001b[0;32m    997\u001b[0m \u001b[38;5;124;03m            possible for library users to change the backend from the outside\u001b[39;00m\n\u001b[0;32m    998\u001b[0m \u001b[38;5;124;03m            using the :func:`~parallel_config` context manager.\u001b[39;00m\n\u001b[0;32m    999\u001b[0m \u001b[38;5;124;03m        return_as: str in {'list', 'generator', 'generator_unordered'}, default='list'\u001b[39;00m\n\u001b[0;32m   1000\u001b[0m \u001b[38;5;124;03m            If 'list', calls to this instance will return a list, only when\u001b[39;00m\n\u001b[0;32m   1001\u001b[0m \u001b[38;5;124;03m            all results have been processed and retrieved.\u001b[39;00m\n\u001b[0;32m   1002\u001b[0m \u001b[38;5;124;03m            If 'generator', it will return a generator that yields the results\u001b[39;00m\n\u001b[0;32m   1003\u001b[0m \u001b[38;5;124;03m            as soon as they are available, in the order the tasks have been\u001b[39;00m\n\u001b[0;32m   1004\u001b[0m \u001b[38;5;124;03m            submitted with.\u001b[39;00m\n\u001b[0;32m   1005\u001b[0m \u001b[38;5;124;03m            If 'generator_unordered', the generator will immediately yield\u001b[39;00m\n\u001b[0;32m   1006\u001b[0m \u001b[38;5;124;03m            available results independently of the submission order. The output\u001b[39;00m\n\u001b[0;32m   1007\u001b[0m \u001b[38;5;124;03m            order is not deterministic in this case because it depends on the\u001b[39;00m\n\u001b[0;32m   1008\u001b[0m \u001b[38;5;124;03m            concurrency of the workers.\u001b[39;00m\n\u001b[0;32m   1009\u001b[0m \u001b[38;5;124;03m        prefer: str in {'processes', 'threads'} or None, default=None\u001b[39;00m\n\u001b[0;32m   1010\u001b[0m \u001b[38;5;124;03m            Soft hint to choose the default backend if no specific backend\u001b[39;00m\n\u001b[0;32m   1011\u001b[0m \u001b[38;5;124;03m            was selected with the :func:`~parallel_config` context manager.\u001b[39;00m\n\u001b[0;32m   1012\u001b[0m \u001b[38;5;124;03m            The default process-based backend is 'loky' and the default\u001b[39;00m\n\u001b[0;32m   1013\u001b[0m \u001b[38;5;124;03m            thread-based backend is 'threading'. Ignored if the ``backend``\u001b[39;00m\n\u001b[0;32m   1014\u001b[0m \u001b[38;5;124;03m            parameter is specified.\u001b[39;00m\n\u001b[0;32m   1015\u001b[0m \u001b[38;5;124;03m        require: 'sharedmem' or None, default=None\u001b[39;00m\n\u001b[0;32m   1016\u001b[0m \u001b[38;5;124;03m            Hard constraint to select the backend. If set to 'sharedmem',\u001b[39;00m\n\u001b[0;32m   1017\u001b[0m \u001b[38;5;124;03m            the selected backend will be single-host and thread-based even\u001b[39;00m\n\u001b[0;32m   1018\u001b[0m \u001b[38;5;124;03m            if the user asked for a non-thread based backend with\u001b[39;00m\n\u001b[0;32m   1019\u001b[0m \u001b[38;5;124;03m            :func:`~joblib.parallel_config`.\u001b[39;00m\n\u001b[0;32m   1020\u001b[0m \u001b[38;5;124;03m        verbose: int, default=0\u001b[39;00m\n\u001b[0;32m   1021\u001b[0m \u001b[38;5;124;03m            The verbosity level: if non zero, progress messages are\u001b[39;00m\n\u001b[0;32m   1022\u001b[0m \u001b[38;5;124;03m            printed. Above 50, the output is sent to stdout.\u001b[39;00m\n\u001b[0;32m   1023\u001b[0m \u001b[38;5;124;03m            The frequency of the messages increases with the verbosity level.\u001b[39;00m\n\u001b[0;32m   1024\u001b[0m \u001b[38;5;124;03m            If it more than 10, all iterations are reported.\u001b[39;00m\n\u001b[0;32m   1025\u001b[0m \u001b[38;5;124;03m        timeout: float or None, default=None\u001b[39;00m\n\u001b[0;32m   1026\u001b[0m \u001b[38;5;124;03m            Timeout limit for each task to complete.  If any task takes longer\u001b[39;00m\n\u001b[0;32m   1027\u001b[0m \u001b[38;5;124;03m            a TimeOutError will be raised. Only applied when n_jobs != 1\u001b[39;00m\n\u001b[0;32m   1028\u001b[0m \u001b[38;5;124;03m        pre_dispatch: {'all', integer, or expression, as in '3*n_jobs'}, default='2*n_jobs'\u001b[39;00m\n\u001b[0;32m   1029\u001b[0m \u001b[38;5;124;03m            The number of batches (of tasks) to be pre-dispatched.\u001b[39;00m\n\u001b[0;32m   1030\u001b[0m \u001b[38;5;124;03m            Default is '2*n_jobs'. When batch_size=\"auto\" this is reasonable\u001b[39;00m\n\u001b[0;32m   1031\u001b[0m \u001b[38;5;124;03m            default and the workers should never starve. Note that only basic\u001b[39;00m\n\u001b[0;32m   1032\u001b[0m \u001b[38;5;124;03m            arithmetics are allowed here and no modules can be used in this\u001b[39;00m\n\u001b[0;32m   1033\u001b[0m \u001b[38;5;124;03m            expression.\u001b[39;00m\n\u001b[0;32m   1034\u001b[0m \u001b[38;5;124;03m        batch_size: int or 'auto', default='auto'\u001b[39;00m\n\u001b[0;32m   1035\u001b[0m \u001b[38;5;124;03m            The number of atomic tasks to dispatch at once to each\u001b[39;00m\n\u001b[0;32m   1036\u001b[0m \u001b[38;5;124;03m            worker. When individual evaluations are very fast, dispatching\u001b[39;00m\n\u001b[0;32m   1037\u001b[0m \u001b[38;5;124;03m            calls to workers can be slower than sequential computation because\u001b[39;00m\n\u001b[0;32m   1038\u001b[0m \u001b[38;5;124;03m            of the overhead. Batching fast computations together can mitigate\u001b[39;00m\n\u001b[0;32m   1039\u001b[0m \u001b[38;5;124;03m            this.\u001b[39;00m\n\u001b[0;32m   1040\u001b[0m \u001b[38;5;124;03m            The ``'auto'`` strategy keeps track of the time it takes for a\u001b[39;00m\n\u001b[0;32m   1041\u001b[0m \u001b[38;5;124;03m            batch to complete, and dynamically adjusts the batch size to keep\u001b[39;00m\n\u001b[0;32m   1042\u001b[0m \u001b[38;5;124;03m            the time on the order of half a second, using a heuristic. The\u001b[39;00m\n\u001b[0;32m   1043\u001b[0m \u001b[38;5;124;03m            initial batch size is 1.\u001b[39;00m\n\u001b[0;32m   1044\u001b[0m \u001b[38;5;124;03m            ``batch_size=\"auto\"`` with ``backend=\"threading\"`` will dispatch\u001b[39;00m\n\u001b[0;32m   1045\u001b[0m \u001b[38;5;124;03m            batches of a single task at a time as the threading backend has\u001b[39;00m\n\u001b[0;32m   1046\u001b[0m \u001b[38;5;124;03m            very little overhead and using larger batch size has not proved to\u001b[39;00m\n\u001b[0;32m   1047\u001b[0m \u001b[38;5;124;03m            bring any gain in that case.\u001b[39;00m\n\u001b[0;32m   1048\u001b[0m \u001b[38;5;124;03m        temp_folder: str or None, default=None\u001b[39;00m\n\u001b[0;32m   1049\u001b[0m \u001b[38;5;124;03m            Folder to be used by the pool for memmapping large arrays\u001b[39;00m\n\u001b[0;32m   1050\u001b[0m \u001b[38;5;124;03m            for sharing memory with worker processes. If None, this will try in\u001b[39;00m\n\u001b[0;32m   1051\u001b[0m \u001b[38;5;124;03m            order:\u001b[39;00m\n\u001b[0;32m   1052\u001b[0m \n\u001b[0;32m   1053\u001b[0m \u001b[38;5;124;03m            - a folder pointed by the JOBLIB_TEMP_FOLDER environment\u001b[39;00m\n\u001b[0;32m   1054\u001b[0m \u001b[38;5;124;03m              variable,\u001b[39;00m\n\u001b[0;32m   1055\u001b[0m \u001b[38;5;124;03m            - /dev/shm if the folder exists and is writable: this is a\u001b[39;00m\n\u001b[0;32m   1056\u001b[0m \u001b[38;5;124;03m              RAM disk filesystem available by default on modern Linux\u001b[39;00m\n\u001b[0;32m   1057\u001b[0m \u001b[38;5;124;03m              distributions,\u001b[39;00m\n\u001b[0;32m   1058\u001b[0m \u001b[38;5;124;03m            - the default system temporary folder that can be\u001b[39;00m\n\u001b[0;32m   1059\u001b[0m \u001b[38;5;124;03m              overridden with TMP, TMPDIR or TEMP environment\u001b[39;00m\n\u001b[0;32m   1060\u001b[0m \u001b[38;5;124;03m              variables, typically /tmp under Unix operating systems.\u001b[39;00m\n\u001b[1;32m-> 1061\u001b[0m \n\u001b[0;32m   1062\u001b[0m \u001b[38;5;124;03m            Only active when ``backend=\"loky\"`` or ``\"multiprocessing\"``.\u001b[39;00m\n\u001b[0;32m   1063\u001b[0m \u001b[38;5;124;03m        max_nbytes int, str, or None, optional, default='1M'\u001b[39;00m\n\u001b[0;32m   1064\u001b[0m \u001b[38;5;124;03m            Threshold on the size of arrays passed to the workers that\u001b[39;00m\n\u001b[0;32m   1065\u001b[0m \u001b[38;5;124;03m            triggers automated memory mapping in temp_folder. Can be an int\u001b[39;00m\n\u001b[0;32m   1066\u001b[0m \u001b[38;5;124;03m            in Bytes, or a human-readable string, e.g., '1M' for 1 megabyte.\u001b[39;00m\n\u001b[0;32m   1067\u001b[0m \u001b[38;5;124;03m            Use None to disable memmapping of large arrays.\u001b[39;00m\n\u001b[0;32m   1068\u001b[0m \u001b[38;5;124;03m            Only active when ``backend=\"loky\"`` or ``\"multiprocessing\"``.\u001b[39;00m\n\u001b[0;32m   1069\u001b[0m \u001b[38;5;124;03m        mmap_mode: {None, 'r+', 'r', 'w+', 'c'}, default='r'\u001b[39;00m\n\u001b[0;32m   1070\u001b[0m \u001b[38;5;124;03m            Memmapping mode for numpy arrays passed to workers. None will\u001b[39;00m\n\u001b[0;32m   1071\u001b[0m \u001b[38;5;124;03m            disable memmapping, other modes defined in the numpy.memmap doc:\u001b[39;00m\n\u001b[0;32m   1072\u001b[0m \u001b[38;5;124;03m            https://numpy.org/doc/stable/reference/generated/numpy.memmap.html\u001b[39;00m\n\u001b[0;32m   1073\u001b[0m \u001b[38;5;124;03m            Also, see 'max_nbytes' parameter documentation for more details.\u001b[39;00m\n\u001b[0;32m   1074\u001b[0m \n\u001b[0;32m   1075\u001b[0m \u001b[38;5;124;03m        Notes\u001b[39;00m\n\u001b[0;32m   1076\u001b[0m \u001b[38;5;124;03m        -----\u001b[39;00m\n\u001b[0;32m   1077\u001b[0m \n\u001b[0;32m   1078\u001b[0m \u001b[38;5;124;03m        This object uses workers to compute in parallel the application of a\u001b[39;00m\n\u001b[0;32m   1079\u001b[0m \u001b[38;5;124;03m        function to many different arguments. The main functionality it brings\u001b[39;00m\n\u001b[0;32m   1080\u001b[0m \u001b[38;5;124;03m        in addition to using the raw multiprocessing or concurrent.futures API\u001b[39;00m\n\u001b[0;32m   1081\u001b[0m \u001b[38;5;124;03m        are (see examples for details):\u001b[39;00m\n\u001b[0;32m   1082\u001b[0m \n\u001b[0;32m   1083\u001b[0m \u001b[38;5;124;03m        * More readable code, in particular since it avoids\u001b[39;00m\n\u001b[0;32m   1084\u001b[0m \u001b[38;5;124;03m          constructing list of arguments.\u001b[39;00m\n\u001b[0;32m   1085\u001b[0m \n\u001b[0;32m   1086\u001b[0m \u001b[38;5;124;03m        * Easier debugging:\u001b[39;00m\n\u001b[0;32m   1087\u001b[0m \u001b[38;5;124;03m            - informative tracebacks even when the error happens on\u001b[39;00m\n\u001b[0;32m   1088\u001b[0m \u001b[38;5;124;03m              the client side\u001b[39;00m\n\u001b[0;32m   1089\u001b[0m \u001b[38;5;124;03m            - using 'n_jobs=1' enables to turn off parallel computing\u001b[39;00m\n\u001b[0;32m   1090\u001b[0m \u001b[38;5;124;03m              for debugging without changing the codepath\u001b[39;00m\n\u001b[0;32m   1091\u001b[0m \u001b[38;5;124;03m            - early capture of pickling errors\u001b[39;00m\n\u001b[0;32m   1092\u001b[0m \n\u001b[0;32m   1093\u001b[0m \u001b[38;5;124;03m        * An optional progress meter.\u001b[39;00m\n\u001b[0;32m   1094\u001b[0m \n\u001b[0;32m   1095\u001b[0m \u001b[38;5;124;03m        * Interruption of multiprocesses jobs with 'Ctrl-C'\u001b[39;00m\n\u001b[0;32m   1096\u001b[0m \n\u001b[0;32m   1097\u001b[0m \u001b[38;5;124;03m        * Flexible pickling control for the communication to and from\u001b[39;00m\n\u001b[0;32m   1098\u001b[0m \u001b[38;5;124;03m          the worker processes.\u001b[39;00m\n\u001b[0;32m   1099\u001b[0m \n\u001b[0;32m   1100\u001b[0m \u001b[38;5;124;03m        * Ability to use shared memory efficiently with worker\u001b[39;00m\n\u001b[0;32m   1101\u001b[0m \u001b[38;5;124;03m          processes for large numpy-based datastructures.\u001b[39;00m\n\u001b[0;32m   1102\u001b[0m \n\u001b[0;32m   1103\u001b[0m \u001b[38;5;124;03m        Note that the intended usage is to run one call at a time. Multiple\u001b[39;00m\n\u001b[0;32m   1104\u001b[0m \u001b[38;5;124;03m        calls to the same Parallel object will result in a ``RuntimeError``\u001b[39;00m\n\u001b[0;32m   1105\u001b[0m \n\u001b[0;32m   1106\u001b[0m \u001b[38;5;124;03m        Examples\u001b[39;00m\n\u001b[0;32m   1107\u001b[0m \u001b[38;5;124;03m        --------\u001b[39;00m\n\u001b[0;32m   1108\u001b[0m \n\u001b[0;32m   1109\u001b[0m \u001b[38;5;124;03m        A simple example:\u001b[39;00m\n\u001b[0;32m   1110\u001b[0m \n\u001b[0;32m   1111\u001b[0m \u001b[38;5;124;03m        >>> from math import sqrt\u001b[39;00m\n\u001b[0;32m   1112\u001b[0m \u001b[38;5;124;03m        >>> from joblib import Parallel, delayed\u001b[39;00m\n\u001b[0;32m   1113\u001b[0m \u001b[38;5;124;03m        >>> Parallel(n_jobs=1)(delayed(sqrt)(i**2) for i in range(10))\u001b[39;00m\n\u001b[0;32m   1114\u001b[0m \u001b[38;5;124;03m        [0.0, 1.0, 2.0, 3.0, 4.0, 5.0, 6.0, 7.0, 8.0, 9.0]\u001b[39;00m\n\u001b[0;32m   1115\u001b[0m \n\u001b[0;32m   1116\u001b[0m \u001b[38;5;124;03m        Reshaping the output when the function has several return\u001b[39;00m\n\u001b[0;32m   1117\u001b[0m \u001b[38;5;124;03m        values:\u001b[39;00m\n\u001b[0;32m   1118\u001b[0m \n\u001b[0;32m   1119\u001b[0m \u001b[38;5;124;03m        >>> from math import modf\u001b[39;00m\n\u001b[0;32m   1120\u001b[0m \u001b[38;5;124;03m        >>> from joblib import Parallel, delayed\u001b[39;00m\n\u001b[0;32m   1121\u001b[0m \u001b[38;5;124;03m        >>> r = Parallel(n_jobs=1)(delayed(modf)(i/2.) for i in range(10))\u001b[39;00m\n\u001b[0;32m   1122\u001b[0m \u001b[38;5;124;03m        >>> res, i = zip(*r)\u001b[39;00m\n\u001b[0;32m   1123\u001b[0m \u001b[38;5;124;03m        >>> res\u001b[39;00m\n\u001b[0;32m   1124\u001b[0m \u001b[38;5;124;03m        (0.0, 0.5, 0.0, 0.5, 0.0, 0.5, 0.0, 0.5, 0.0, 0.5)\u001b[39;00m\n\u001b[0;32m   1125\u001b[0m \u001b[38;5;124;03m        >>> i\u001b[39;00m\n\u001b[0;32m   1126\u001b[0m \u001b[38;5;124;03m        (0.0, 0.0, 1.0, 1.0, 2.0, 2.0, 3.0, 3.0, 4.0, 4.0)\u001b[39;00m\n\u001b[0;32m   1127\u001b[0m \n\u001b[0;32m   1128\u001b[0m \u001b[38;5;124;03m        The progress meter: the higher the value of `verbose`, the more\u001b[39;00m\n\u001b[0;32m   1129\u001b[0m \u001b[38;5;124;03m        messages:\u001b[39;00m\n\u001b[0;32m   1130\u001b[0m \n\u001b[0;32m   1131\u001b[0m \u001b[38;5;124;03m        >>> from time import sleep\u001b[39;00m\n\u001b[0;32m   1132\u001b[0m \u001b[38;5;124;03m        >>> from joblib import Parallel, delayed\u001b[39;00m\n\u001b[0;32m   1133\u001b[0m \u001b[38;5;124;03m        >>> r = Parallel(n_jobs=2, verbose=10)(\u001b[39;00m\n\u001b[0;32m   1134\u001b[0m \u001b[38;5;124;03m        ...     delayed(sleep)(.2) for _ in range(10)) #doctest: +SKIP\u001b[39;00m\n\u001b[0;32m   1135\u001b[0m \u001b[38;5;124;03m        [Parallel(n_jobs=2)]: Done   1 tasks      | elapsed:    0.6s\u001b[39;00m\n\u001b[0;32m   1136\u001b[0m \u001b[38;5;124;03m        [Parallel(n_jobs=2)]: Done   4 tasks      | elapsed:    0.8s\u001b[39;00m\n\u001b[0;32m   1137\u001b[0m \u001b[38;5;124;03m        [Parallel(n_jobs=2)]: Done  10 out of  10 | elapsed:    1.4s finished\u001b[39;00m\n\u001b[0;32m   1138\u001b[0m \n\u001b[0;32m   1139\u001b[0m \u001b[38;5;124;03m        Traceback example, note how the line of the error is indicated\u001b[39;00m\n\u001b[0;32m   1140\u001b[0m \u001b[38;5;124;03m        as well as the values of the parameter passed to the function that\u001b[39;00m\n\u001b[0;32m   1141\u001b[0m \u001b[38;5;124;03m        triggered the exception, even though the traceback happens in the\u001b[39;00m\n\u001b[0;32m   1142\u001b[0m \u001b[38;5;124;03m        child process:\u001b[39;00m\n\u001b[0;32m   1143\u001b[0m \n\u001b[0;32m   1144\u001b[0m \u001b[38;5;124;03m        >>> from heapq import nlargest\u001b[39;00m\n\u001b[0;32m   1145\u001b[0m \u001b[38;5;124;03m        >>> from joblib import Parallel, delayed\u001b[39;00m\n\u001b[0;32m   1146\u001b[0m \u001b[38;5;124;03m        >>> Parallel(n_jobs=2)(\u001b[39;00m\n\u001b[0;32m   1147\u001b[0m \u001b[38;5;124;03m        ... delayed(nlargest)(2, n) for n in (range(4), 'abcde', 3))\u001b[39;00m\n\u001b[0;32m   1148\u001b[0m \u001b[38;5;124;03m        ... # doctest: +SKIP\u001b[39;00m\n\u001b[0;32m   1149\u001b[0m \u001b[38;5;124;03m        -----------------------------------------------------------------------\u001b[39;00m\n\u001b[0;32m   1150\u001b[0m \u001b[38;5;124;03m        Sub-process traceback:\u001b[39;00m\n\u001b[0;32m   1151\u001b[0m \u001b[38;5;124;03m        -----------------------------------------------------------------------\u001b[39;00m\n\u001b[0;32m   1152\u001b[0m \u001b[38;5;124;03m        TypeError                                      Mon Nov 12 11:37:46 2012\u001b[39;00m\n\u001b[0;32m   1153\u001b[0m \u001b[38;5;124;03m        PID: 12934                                Python 2.7.3: /usr/bin/python\u001b[39;00m\n\u001b[0;32m   1154\u001b[0m \u001b[38;5;124;03m        ........................................................................\u001b[39;00m\n\u001b[0;32m   1155\u001b[0m \u001b[38;5;124;03m        /usr/lib/python2.7/heapq.pyc in nlargest(n=2, iterable=3, key=None)\u001b[39;00m\n\u001b[0;32m   1156\u001b[0m \u001b[38;5;124;03m            419         if n >= size:\u001b[39;00m\n\u001b[0;32m   1157\u001b[0m \u001b[38;5;124;03m            420             return sorted(iterable, key=key, reverse=True)[:n]\u001b[39;00m\n\u001b[0;32m   1158\u001b[0m \u001b[38;5;124;03m            421\u001b[39;00m\n\u001b[0;32m   1159\u001b[0m \u001b[38;5;124;03m            422     # When key is none, use simpler decoration\u001b[39;00m\n\u001b[0;32m   1160\u001b[0m \u001b[38;5;124;03m            423     if key is None:\u001b[39;00m\n\u001b[0;32m   1161\u001b[0m \u001b[38;5;124;03m        --> 424         it = izip(iterable, count(0,-1))           # decorate\u001b[39;00m\n\u001b[0;32m   1162\u001b[0m \u001b[38;5;124;03m            425         result = _nlargest(n, it)\u001b[39;00m\n\u001b[0;32m   1163\u001b[0m \u001b[38;5;124;03m            426         return map(itemgetter(0), result)          # undecorate\u001b[39;00m\n\u001b[0;32m   1164\u001b[0m \u001b[38;5;124;03m            427\u001b[39;00m\n\u001b[0;32m   1165\u001b[0m \u001b[38;5;124;03m            428     # General case, slowest method\u001b[39;00m\n\u001b[0;32m   1166\u001b[0m \u001b[38;5;124;03m         TypeError: izip argument #1 must support iteration\u001b[39;00m\n\u001b[0;32m   1167\u001b[0m \u001b[38;5;124;03m        _______________________________________________________________________\u001b[39;00m\n\u001b[0;32m   1168\u001b[0m \n\u001b[0;32m   1169\u001b[0m \n\u001b[0;32m   1170\u001b[0m \u001b[38;5;124;03m        Using pre_dispatch in a producer/consumer situation, where the\u001b[39;00m\n\u001b[0;32m   1171\u001b[0m \u001b[38;5;124;03m        data is generated on the fly. Note how the producer is first\u001b[39;00m\n\u001b[0;32m   1172\u001b[0m \u001b[38;5;124;03m        called 3 times before the parallel loop is initiated, and then\u001b[39;00m\n\u001b[0;32m   1173\u001b[0m \u001b[38;5;124;03m        called to generate new data on the fly:\u001b[39;00m\n\u001b[0;32m   1174\u001b[0m \n\u001b[0;32m   1175\u001b[0m \u001b[38;5;124;03m        >>> from math import sqrt\u001b[39;00m\n\u001b[0;32m   1176\u001b[0m \u001b[38;5;124;03m        >>> from joblib import Parallel, delayed\u001b[39;00m\n\u001b[0;32m   1177\u001b[0m \u001b[38;5;124;03m        >>> def producer():\u001b[39;00m\n\u001b[0;32m   1178\u001b[0m \u001b[38;5;124;03m        ...     for i in range(6):\u001b[39;00m\n\u001b[0;32m   1179\u001b[0m \u001b[38;5;124;03m        ...         print('Produced %s' % i)\u001b[39;00m\n\u001b[0;32m   1180\u001b[0m \u001b[38;5;124;03m        ...         yield i\u001b[39;00m\n\u001b[0;32m   1181\u001b[0m \u001b[38;5;124;03m        >>> out = Parallel(n_jobs=2, verbose=100, pre_dispatch='1.5*n_jobs')(\u001b[39;00m\n\u001b[0;32m   1182\u001b[0m \u001b[38;5;124;03m        ...     delayed(sqrt)(i) for i in producer()) #doctest: +SKIP\u001b[39;00m\n\u001b[0;32m   1183\u001b[0m \u001b[38;5;124;03m        Produced 0\u001b[39;00m\n\u001b[0;32m   1184\u001b[0m \u001b[38;5;124;03m        Produced 1\u001b[39;00m\n\u001b[0;32m   1185\u001b[0m \u001b[38;5;124;03m        Produced 2\u001b[39;00m\n\u001b[0;32m   1186\u001b[0m \u001b[38;5;124;03m        [Parallel(n_jobs=2)]: Done 1 jobs     | elapsed:  0.0s\u001b[39;00m\n\u001b[0;32m   1187\u001b[0m \u001b[38;5;124;03m        Produced 3\u001b[39;00m\n\u001b[0;32m   1188\u001b[0m \u001b[38;5;124;03m        [Parallel(n_jobs=2)]: Done 2 jobs     | elapsed:  0.0s\u001b[39;00m\n\u001b[0;32m   1189\u001b[0m \u001b[38;5;124;03m        Produced 4\u001b[39;00m\n\u001b[0;32m   1190\u001b[0m \u001b[38;5;124;03m        [Parallel(n_jobs=2)]: Done 3 jobs     | elapsed:  0.0s\u001b[39;00m\n\u001b[0;32m   1191\u001b[0m \u001b[38;5;124;03m        Produced 5\u001b[39;00m\n\u001b[0;32m   1192\u001b[0m \u001b[38;5;124;03m        [Parallel(n_jobs=2)]: Done 4 jobs     | elapsed:  0.0s\u001b[39;00m\n\u001b[0;32m   1193\u001b[0m \u001b[38;5;124;03m        [Parallel(n_jobs=2)]: Done 6 out of 6 | elapsed:  0.0s remaining: 0.0s\u001b[39;00m\n\u001b[0;32m   1194\u001b[0m \u001b[38;5;124;03m        [Parallel(n_jobs=2)]: Done 6 out of 6 | elapsed:  0.0s finished\u001b[39;00m\n\u001b[0;32m   1195\u001b[0m \n\u001b[0;32m   1196\u001b[0m \u001b[38;5;124;03m    '''\u001b[39;00m  \u001b[38;5;66;03m# noqa: E501\u001b[39;00m\n\u001b[0;32m   1197\u001b[0m     \u001b[38;5;28;01mdef\u001b[39;00m \u001b[38;5;21m__init__\u001b[39m(\n\u001b[0;32m   1198\u001b[0m         \u001b[38;5;28mself\u001b[39m,\n\u001b[0;32m   1199\u001b[0m         n_jobs\u001b[38;5;241m=\u001b[39mdefault_parallel_config[\u001b[38;5;124m\"\u001b[39m\u001b[38;5;124mn_jobs\u001b[39m\u001b[38;5;124m\"\u001b[39m],\n\u001b[1;32m   (...)\u001b[0m\n\u001b[0;32m   1211\u001b[0m     ):\n\u001b[0;32m   1212\u001b[0m         \u001b[38;5;66;03m# Initiate parent Logger class state\u001b[39;00m\n\u001b[0;32m   1213\u001b[0m         \u001b[38;5;28msuper\u001b[39m()\u001b[38;5;241m.\u001b[39m\u001b[38;5;21m__init__\u001b[39m()\n",
      "File \u001b[1;32m~\\Documents\\Python\\Lib\\site-packages\\joblib\\parallel.py:938\u001b[0m, in \u001b[0;36mretrieve\u001b[1;34m(self)\u001b[0m\n\u001b[0;32m      0\u001b[0m <Error retrieving source code with stack_data see ipython/ipython#13598>\n",
      "File \u001b[1;32m~\\Documents\\Python\\Lib\\site-packages\\joblib\\_parallel_backends.py:542\u001b[0m, in \u001b[0;36mwrap_future_result\u001b[1;34m(future, timeout)\u001b[0m\n\u001b[0;32m    535\u001b[0m     \u001b[38;5;28;01mraise\u001b[39;00m FallbackToBackend(\n\u001b[0;32m    536\u001b[0m         SequentialBackend(nesting_level\u001b[38;5;241m=\u001b[39m\u001b[38;5;28mself\u001b[39m\u001b[38;5;241m.\u001b[39mnesting_level))\n\u001b[0;32m    538\u001b[0m \u001b[38;5;28mself\u001b[39m\u001b[38;5;241m.\u001b[39m_workers \u001b[38;5;241m=\u001b[39m get_memmapping_executor(\n\u001b[0;32m    539\u001b[0m     n_jobs, timeout\u001b[38;5;241m=\u001b[39midle_worker_timeout,\n\u001b[0;32m    540\u001b[0m     env\u001b[38;5;241m=\u001b[39m\u001b[38;5;28mself\u001b[39m\u001b[38;5;241m.\u001b[39m_prepare_worker_env(n_jobs\u001b[38;5;241m=\u001b[39mn_jobs),\n\u001b[0;32m    541\u001b[0m     context_id\u001b[38;5;241m=\u001b[39mparallel\u001b[38;5;241m.\u001b[39m_id, \u001b[38;5;241m*\u001b[39m\u001b[38;5;241m*\u001b[39mmemmappingexecutor_args)\n\u001b[1;32m--> 542\u001b[0m \u001b[38;5;28mself\u001b[39m\u001b[38;5;241m.\u001b[39mparallel \u001b[38;5;241m=\u001b[39m parallel\n\u001b[0;32m    543\u001b[0m \u001b[38;5;28;01mreturn\u001b[39;00m n_jobs\n",
      "File \u001b[1;32m~\\Documents\\Python\\Lib\\concurrent\\futures\\_base.py:456\u001b[0m, in \u001b[0;36mFuture.result\u001b[1;34m(self, timeout)\u001b[0m\n\u001b[0;32m    454\u001b[0m     \u001b[38;5;28;01mraise\u001b[39;00m CancelledError()\n\u001b[0;32m    455\u001b[0m \u001b[38;5;28;01melif\u001b[39;00m \u001b[38;5;28mself\u001b[39m\u001b[38;5;241m.\u001b[39m_state \u001b[38;5;241m==\u001b[39m FINISHED:\n\u001b[1;32m--> 456\u001b[0m     \u001b[38;5;28;01mreturn\u001b[39;00m \u001b[38;5;28;43mself\u001b[39;49m\u001b[38;5;241;43m.\u001b[39;49m\u001b[43m__get_result\u001b[49m\u001b[43m(\u001b[49m\u001b[43m)\u001b[49m\n\u001b[0;32m    457\u001b[0m \u001b[38;5;28;01melse\u001b[39;00m:\n\u001b[0;32m    458\u001b[0m     \u001b[38;5;28;01mraise\u001b[39;00m \u001b[38;5;167;01mTimeoutError\u001b[39;00m()\n",
      "File \u001b[1;32m~\\Documents\\Python\\Lib\\concurrent\\futures\\_base.py:401\u001b[0m, in \u001b[0;36mFuture.__get_result\u001b[1;34m(self)\u001b[0m\n\u001b[0;32m    399\u001b[0m \u001b[38;5;28;01mif\u001b[39;00m \u001b[38;5;28mself\u001b[39m\u001b[38;5;241m.\u001b[39m_exception:\n\u001b[0;32m    400\u001b[0m     \u001b[38;5;28;01mtry\u001b[39;00m:\n\u001b[1;32m--> 401\u001b[0m         \u001b[38;5;28;01mraise\u001b[39;00m \u001b[38;5;28mself\u001b[39m\u001b[38;5;241m.\u001b[39m_exception\n\u001b[0;32m    402\u001b[0m     \u001b[38;5;28;01mfinally\u001b[39;00m:\n\u001b[0;32m    403\u001b[0m         \u001b[38;5;66;03m# Break a reference cycle with the exception in self._exception\u001b[39;00m\n\u001b[0;32m    404\u001b[0m         \u001b[38;5;28mself\u001b[39m \u001b[38;5;241m=\u001b[39m \u001b[38;5;28;01mNone\u001b[39;00m\n",
      "File \u001b[1;32m~\\Documents\\Python\\Lib\\site-packages\\joblib\\externals\\loky\\_base.py:625\u001b[0m, in \u001b[0;36m_invoke_callbacks\u001b[1;34m(self)\u001b[0m\n\u001b[0;32m      0\u001b[0m <Error retrieving source code with stack_data see ipython/ipython#13598>\n",
      "File \u001b[1;32m~\\Documents\\Python\\Lib\\site-packages\\joblib\\parallel.py:360\u001b[0m, in \u001b[0;36m__call__\u001b[1;34m(self, out)\u001b[0m\n\u001b[0;32m    217\u001b[0m \u001b[38;5;28;01mclass\u001b[39;00m \u001b[38;5;21;01mparallel_config\u001b[39;00m:\n\u001b[0;32m    218\u001b[0m \u001b[38;5;250m    \u001b[39m\u001b[38;5;124;03m\"\"\"Set the default backend or configuration for :class:`~joblib.Parallel`.\u001b[39;00m\n\u001b[0;32m    219\u001b[0m \n\u001b[0;32m    220\u001b[0m \u001b[38;5;124;03m    This is an alternative to directly passing keyword arguments to the\u001b[39;00m\n\u001b[1;32m   (...)\u001b[0m\n\u001b[0;32m    354\u001b[0m \n\u001b[0;32m    355\u001b[0m \u001b[38;5;124;03m    \"\"\"\u001b[39;00m\n\u001b[0;32m    356\u001b[0m     \u001b[38;5;28;01mdef\u001b[39;00m \u001b[38;5;21m__init__\u001b[39m(\n\u001b[0;32m    357\u001b[0m         \u001b[38;5;28mself\u001b[39m,\n\u001b[0;32m    358\u001b[0m         backend\u001b[38;5;241m=\u001b[39mdefault_parallel_config[\u001b[38;5;124m\"\u001b[39m\u001b[38;5;124mbackend\u001b[39m\u001b[38;5;124m\"\u001b[39m],\n\u001b[0;32m    359\u001b[0m         \u001b[38;5;241m*\u001b[39m,\n\u001b[1;32m--> 360\u001b[0m         n_jobs\u001b[38;5;241m=\u001b[39mdefault_parallel_config[\u001b[38;5;124m\"\u001b[39m\u001b[38;5;124mn_jobs\u001b[39m\u001b[38;5;124m\"\u001b[39m],\n\u001b[0;32m    361\u001b[0m         verbose\u001b[38;5;241m=\u001b[39mdefault_parallel_config[\u001b[38;5;124m\"\u001b[39m\u001b[38;5;124mverbose\u001b[39m\u001b[38;5;124m\"\u001b[39m],\n\u001b[0;32m    362\u001b[0m         temp_folder\u001b[38;5;241m=\u001b[39mdefault_parallel_config[\u001b[38;5;124m\"\u001b[39m\u001b[38;5;124mtemp_folder\u001b[39m\u001b[38;5;124m\"\u001b[39m],\n\u001b[0;32m    363\u001b[0m         max_nbytes\u001b[38;5;241m=\u001b[39mdefault_parallel_config[\u001b[38;5;124m\"\u001b[39m\u001b[38;5;124mmax_nbytes\u001b[39m\u001b[38;5;124m\"\u001b[39m],\n\u001b[0;32m    364\u001b[0m         mmap_mode\u001b[38;5;241m=\u001b[39mdefault_parallel_config[\u001b[38;5;124m\"\u001b[39m\u001b[38;5;124mmmap_mode\u001b[39m\u001b[38;5;124m\"\u001b[39m],\n\u001b[0;32m    365\u001b[0m         prefer\u001b[38;5;241m=\u001b[39mdefault_parallel_config[\u001b[38;5;124m\"\u001b[39m\u001b[38;5;124mprefer\u001b[39m\u001b[38;5;124m\"\u001b[39m],\n\u001b[0;32m    366\u001b[0m         require\u001b[38;5;241m=\u001b[39mdefault_parallel_config[\u001b[38;5;124m\"\u001b[39m\u001b[38;5;124mrequire\u001b[39m\u001b[38;5;124m\"\u001b[39m],\n\u001b[0;32m    367\u001b[0m         inner_max_num_threads\u001b[38;5;241m=\u001b[39m\u001b[38;5;28;01mNone\u001b[39;00m,\n\u001b[0;32m    368\u001b[0m         \u001b[38;5;241m*\u001b[39m\u001b[38;5;241m*\u001b[39mbackend_params\n\u001b[0;32m    369\u001b[0m     ):\n\u001b[0;32m    370\u001b[0m         \u001b[38;5;66;03m# Save the parallel info and set the active parallel config\u001b[39;00m\n\u001b[0;32m    371\u001b[0m         \u001b[38;5;28mself\u001b[39m\u001b[38;5;241m.\u001b[39mold_parallel_config \u001b[38;5;241m=\u001b[39m \u001b[38;5;28mgetattr\u001b[39m(\n\u001b[0;32m    372\u001b[0m             _backend, \u001b[38;5;124m\"\u001b[39m\u001b[38;5;124mconfig\u001b[39m\u001b[38;5;124m\"\u001b[39m, default_parallel_config\n\u001b[0;32m    373\u001b[0m         )\n\u001b[0;32m    375\u001b[0m         backend \u001b[38;5;241m=\u001b[39m \u001b[38;5;28mself\u001b[39m\u001b[38;5;241m.\u001b[39m_check_backend(\n\u001b[0;32m    376\u001b[0m             backend, inner_max_num_threads, \u001b[38;5;241m*\u001b[39m\u001b[38;5;241m*\u001b[39mbackend_params\n\u001b[0;32m    377\u001b[0m         )\n",
      "File \u001b[1;32m~\\Documents\\Python\\Lib\\site-packages\\joblib\\parallel.py:797\u001b[0m, in \u001b[0;36mdispatch_next\u001b[1;34m(self)\u001b[0m\n\u001b[0;32m    792\u001b[0m def __call__(self, out):\n\u001b[0;32m    793\u001b[0m     \"\"\"Function called by the callback thread after a job is completed.\"\"\"\n\u001b[0;32m    795\u001b[0m     # If the backend doesn't support callback retrievals, the next batch of\n\u001b[0;32m    796\u001b[0m     # tasks is dispatched regardless. The result will be retrieved by the\n\u001b[1;32m--> 797\u001b[0m     # main thread when calling `get_result`.\n\u001b[0;32m    798\u001b[0m     if not self.parallel._backend.supports_retrieve_callback:\n\u001b[0;32m    799\u001b[0m         self._dispatch_new()\n",
      "File \u001b[1;32m~\\Documents\\Python\\Lib\\site-packages\\joblib\\parallel.py:864\u001b[0m, in \u001b[0;36mdispatch_one_batch\u001b[1;34m(self, iterator)\u001b[0m\n\u001b[0;32m    860\u001b[0m     self._register_outcome(outcome)\n\u001b[0;32m    861\u001b[0m     return outcome['status'] != TASK_ERROR\n\u001b[0;32m    863\u001b[0m ##########################################################################\n\u001b[1;32m--> 864\u001b[0m #            This method can be called either in the main thread         #\n\u001b[0;32m    865\u001b[0m #                        or in the callback thread.                      #\n\u001b[0;32m    866\u001b[0m ##########################################################################\n\u001b[0;32m    867\u001b[0m def _register_outcome(self, outcome):\n\u001b[0;32m    868\u001b[0m     \"\"\"Register the outcome of a task.\n\u001b[0;32m    869\u001b[0m \n\u001b[0;32m    870\u001b[0m     This method can be called only once, future calls will be ignored.\n\u001b[0;32m    871\u001b[0m     \"\"\"\n",
      "File \u001b[1;32m~\\Documents\\Python\\Lib\\site-packages\\joblib\\parallel.py:782\u001b[0m, in \u001b[0;36m_dispatch\u001b[1;34m(self, batch)\u001b[0m\n\u001b[0;32m      0\u001b[0m <Error retrieving source code with stack_data see ipython/ipython#13598>\n",
      "File \u001b[1;32m~\\Documents\\Python\\Lib\\site-packages\\joblib\\_parallel_backends.py:531\u001b[0m, in \u001b[0;36mapply_async\u001b[1;34m(self, func, callback)\u001b[0m\n\u001b[0;32m    527\u001b[0m supports_retrieve_callback \u001b[38;5;241m=\u001b[39m \u001b[38;5;28;01mTrue\u001b[39;00m\n\u001b[0;32m    528\u001b[0m supports_inner_max_num_threads \u001b[38;5;241m=\u001b[39m \u001b[38;5;28;01mTrue\u001b[39;00m\n\u001b[0;32m    530\u001b[0m \u001b[38;5;28;01mdef\u001b[39;00m \u001b[38;5;21mconfigure\u001b[39m(\u001b[38;5;28mself\u001b[39m, n_jobs\u001b[38;5;241m=\u001b[39m\u001b[38;5;241m1\u001b[39m, parallel\u001b[38;5;241m=\u001b[39m\u001b[38;5;28;01mNone\u001b[39;00m, prefer\u001b[38;5;241m=\u001b[39m\u001b[38;5;28;01mNone\u001b[39;00m, require\u001b[38;5;241m=\u001b[39m\u001b[38;5;28;01mNone\u001b[39;00m,\n\u001b[1;32m--> 531\u001b[0m               idle_worker_timeout\u001b[38;5;241m=\u001b[39m\u001b[38;5;241m300\u001b[39m, \u001b[38;5;241m*\u001b[39m\u001b[38;5;241m*\u001b[39mmemmappingexecutor_args):\n\u001b[0;32m    532\u001b[0m \u001b[38;5;250m    \u001b[39m\u001b[38;5;124;03m\"\"\"Build a process executor and return the number of workers\"\"\"\u001b[39;00m\n\u001b[0;32m    533\u001b[0m     n_jobs \u001b[38;5;241m=\u001b[39m \u001b[38;5;28mself\u001b[39m\u001b[38;5;241m.\u001b[39meffective_n_jobs(n_jobs)\n",
      "File \u001b[1;32m~\\Documents\\Python\\Lib\\site-packages\\joblib\\externals\\loky\\reusable_executor.py:177\u001b[0m, in \u001b[0;36msubmit\u001b[1;34m(self, fn, *args, **kwargs)\u001b[0m\n\u001b[0;32m    175\u001b[0m \u001b[38;5;28;01mif\u001b[39;00m executor \u001b[38;5;129;01mis\u001b[39;00m \u001b[38;5;28;01mNone\u001b[39;00m:\n\u001b[0;32m    176\u001b[0m     is_reused \u001b[38;5;241m=\u001b[39m \u001b[38;5;28;01mFalse\u001b[39;00m\n\u001b[1;32m--> 177\u001b[0m     mp\u001b[38;5;241m.\u001b[39mutil\u001b[38;5;241m.\u001b[39mdebug(\n\u001b[0;32m    178\u001b[0m         \u001b[38;5;124mf\u001b[39m\u001b[38;5;124m\"\u001b[39m\u001b[38;5;124mCreate a executor with max_workers=\u001b[39m\u001b[38;5;132;01m{\u001b[39;00mmax_workers\u001b[38;5;132;01m}\u001b[39;00m\u001b[38;5;124m.\u001b[39m\u001b[38;5;124m\"\u001b[39m\n\u001b[0;32m    179\u001b[0m     )\n\u001b[0;32m    180\u001b[0m     executor_id \u001b[38;5;241m=\u001b[39m _get_next_executor_id()\n\u001b[0;32m    181\u001b[0m     _executor_kwargs \u001b[38;5;241m=\u001b[39m kwargs\n",
      "File \u001b[1;32m~\\Documents\\Python\\Lib\\site-packages\\joblib\\externals\\loky\\process_executor.py:1115\u001b[0m, in \u001b[0;36msubmit\u001b[1;34m(self, fn, *args, **kwargs)\u001b[0m\n\u001b[0;32m   1111\u001b[0m self._executor_manager_thread = None\n\u001b[0;32m   1112\u001b[0m self._shutdown_lock = threading.Lock()\n\u001b[0;32m   1114\u001b[0m # _ThreadWakeup is a communication channel used to interrupt the wait\n\u001b[1;32m-> 1115\u001b[0m # of the main loop of executor_manager_thread from another thread (e.g.\n\u001b[0;32m   1116\u001b[0m # when calling executor.submit or executor.shutdown). We do not use the\n\u001b[0;32m   1117\u001b[0m # _result_queue to send wakeup signals to the executor_manager_thread\n\u001b[0;32m   1118\u001b[0m # as it could result in a deadlock if a worker process dies with the\n\u001b[0;32m   1119\u001b[0m # _result_queue write lock still acquired.\n\u001b[0;32m   1120\u001b[0m #\n\u001b[0;32m   1121\u001b[0m # _shutdown_lock must be locked to access _ThreadWakeup.wakeup.\n\u001b[0;32m   1122\u001b[0m self._executor_manager_thread_wakeup = _ThreadWakeup()\n\u001b[0;32m   1124\u001b[0m # Flag to hold the state of the Executor. This permits to introspect\n\u001b[0;32m   1125\u001b[0m # the Executor state even once it has been garbage collected.\n",
      "\u001b[1;31mTerminatedWorkerError\u001b[0m: A worker process managed by the executor was unexpectedly terminated. This could be caused by a segmentation fault while calling the function or by an excessive memory usage causing the Operating System to kill the worker.\n"
     ]
    }
   ],
   "source": [
    "from sklearn.model_selection import RandomizedSearchCV\n",
    "rf = RandomForestRegressor()\n",
    "random_search = RandomizedSearchCV(estimator=rf, \n",
    "                                   param_distributions=param_dist, \n",
    "                                   n_iter=50,  \n",
    "                                   cv=5,       \n",
    "                                   verbose=2, \n",
    "                                   random_state=42, \n",
    "                                   n_jobs=2)\n",
    "\n",
    "random_search.fit(X_train, y_train)\n",
    "\n",
    "print(f\"Best Parameters: {random_search.best_params_}\")\n",
    "print(f\"Best Score: {random_search.best_score_}\")"
   ]
  },
  {
   "cell_type": "code",
   "execution_count": null,
   "id": "b48d57b1-de57-4c6c-bd1a-a3b774e756bd",
   "metadata": {},
   "outputs": [],
   "source": []
  },
  {
   "cell_type": "code",
   "execution_count": 349,
   "id": "a188fbdc-24b4-4464-bfae-d72e9bf5562f",
   "metadata": {},
   "outputs": [],
   "source": [
    "# Feature Selection"
   ]
  },
  {
   "cell_type": "code",
   "execution_count": 350,
   "id": "787cbab5-b6cf-4c4c-a7c8-50fe3c01aae9",
   "metadata": {},
   "outputs": [],
   "source": [
    "cat_cols = ['Light', 'Headrest', 'Antenna', 'Headlamps', 'System', 'Variant Name', 'RTO', 'Engine Type', 'Fuel Suppy System', \n",
    "            'Wheel', 'Control', 'Warning', 'Turbo Charger', 'Steering Type', 'Color', 'Value Configuration', 'Body Type']\n",
    "num_cols = ['Mileage', 'Torque', 'Displacement', 'Acceleration', 'Cargo Volumn', 'No of Owner', 'Top Speed', 'Height']"
   ]
  },
  {
   "cell_type": "code",
   "execution_count": 351,
   "id": "5626d3ff-7865-478f-8b5f-6637b084058b",
   "metadata": {},
   "outputs": [],
   "source": [
    "cat_pattern = '|'.join(cat_cols)\n",
    "num_pattern = '|'.join(num_cols)\n",
    "\n",
    "X_train = X_train.drop(X_train.filter(regex=cat_pattern).columns, axis=1)\n",
    "X_test = X_test.drop(X_test.filter(regex=cat_pattern).columns, axis=1)\n",
    "\n",
    "X_train = X_train.drop(X_train.filter(regex=num_pattern).columns, axis=1)\n",
    "X_test = X_test.drop(X_test.filter(regex=num_pattern).columns, axis=1)\n"
   ]
  },
  {
   "cell_type": "code",
   "execution_count": null,
   "id": "4e441264-3430-4e4a-88f2-429b52c529e9",
   "metadata": {},
   "outputs": [],
   "source": []
  },
  {
   "cell_type": "code",
   "execution_count": null,
   "id": "a7a48e2f-a720-4ae8-b5c7-d11945059aa7",
   "metadata": {},
   "outputs": [],
   "source": []
  }
 ],
 "metadata": {
  "kernelspec": {
   "display_name": "Python 3 (ipykernel)",
   "language": "python",
   "name": "python3"
  },
  "language_info": {
   "codemirror_mode": {
    "name": "ipython",
    "version": 3
   },
   "file_extension": ".py",
   "mimetype": "text/x-python",
   "name": "python",
   "nbconvert_exporter": "python",
   "pygments_lexer": "ipython3",
   "version": "3.12.3"
  }
 },
 "nbformat": 4,
 "nbformat_minor": 5
}
